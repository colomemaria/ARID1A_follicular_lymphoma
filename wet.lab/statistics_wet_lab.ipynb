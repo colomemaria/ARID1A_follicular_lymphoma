{
 "cells": [
  {
   "cell_type": "markdown",
   "metadata": {},
   "source": [
    "### Functions"
   ]
  },
  {
   "cell_type": "code",
   "execution_count": 1,
   "metadata": {
    "ExecuteTime": {
     "end_time": "2023-10-09T07:21:05.981092Z",
     "start_time": "2023-10-09T07:21:05.818Z"
    },
    "code_folding": []
   },
   "outputs": [],
   "source": [
    "t_test <- function(data\n",
    "                  ,...){\n",
    "    t.test(value~group\n",
    "           ,data\n",
    "           ,...\n",
    "          )\n",
    "}"
   ]
  },
  {
   "cell_type": "code",
   "execution_count": 2,
   "metadata": {
    "ExecuteTime": {
     "end_time": "2023-10-09T07:21:06.984657Z",
     "start_time": "2023-10-09T07:21:06.821Z"
    },
    "code_folding": []
   },
   "outputs": [],
   "source": [
    "welch_test <- function(data\n",
    "                  ,...){\n",
    "    t.test(value~group\n",
    "           ,data\n",
    "           ,var.equal = FALSE\n",
    "           ,...\n",
    "          )\n",
    "}"
   ]
  },
  {
   "cell_type": "code",
   "execution_count": 3,
   "metadata": {
    "ExecuteTime": {
     "end_time": "2023-10-09T07:21:07.436383Z",
     "start_time": "2023-10-09T07:21:07.394Z"
    },
    "code_folding": []
   },
   "outputs": [],
   "source": [
    "mann_whitney_u_test <- function(data\n",
    "                               ,...){\n",
    "    wilcox.test(value~group\n",
    "                ,data\n",
    "                ,exact = NULL\n",
    "                ,correct = TRUE\n",
    "                ,conf.int = FALSE\n",
    "                ,...\n",
    "               )\n",
    "}"
   ]
  },
  {
   "cell_type": "code",
   "execution_count": 4,
   "metadata": {
    "ExecuteTime": {
     "end_time": "2023-10-09T07:21:08.454462Z",
     "start_time": "2023-10-09T07:21:08.405Z"
    },
    "code_folding": []
   },
   "outputs": [],
   "source": [
    "moods_median_test <- function(data\n",
    "                             ,...){\n",
    "    mood.test(value~group\n",
    "              ,data\n",
    "              ,...)\n",
    "}"
   ]
  },
  {
   "cell_type": "code",
   "execution_count": 5,
   "metadata": {
    "ExecuteTime": {
     "end_time": "2023-10-09T07:21:15.110738Z",
     "start_time": "2023-10-09T07:21:15.051Z"
    }
   },
   "outputs": [],
   "source": [
    "run_statistics <- function(experiment\n",
    "                         ,groups_to_test = NA \n",
    "                          # If there are more than two groups in the dataset, by default all vs all groups will be tested. \n",
    "                          # Provide character vector in form of e.g. c(\"het vs WT\", \"KO vs WT\") to perform only selected comparisons\n",
    "                         ,adjustment_method = \"bonferroni\"\n",
    "                          ){\n",
    "    # read in data\n",
    "    data <- read.csv(file = paste0(\"./input/\"\n",
    "                                  ,experiment\n",
    "                                  ,\".tsv\"\n",
    "                                  )\n",
    "                    ,sep = \"\\t\"\n",
    "                     ,dec = \",\"\n",
    "                    ,header = TRUE)\n",
    "    print(str(data)) # REMOVE THIS!!!!!!!!!!!!!!!!!!!!!!!!!!!!!!!!!!!!!!!!!!!!!!!\n",
    "    cat('\\n')\n",
    "    \n",
    "    # how many groups we have?\n",
    "    groups <- unique(data$group)\n",
    "    print(\"we have following groups in the data:\")\n",
    "    print(groups) # REMOVE THIS!!!!!!!!!!!!!!!!!!!!!!!!!!!!!!!!!!!!!!!!!!!!!!!\n",
    "    cat('\\n')\n",
    "    \n",
    "    all_vs_all <- (length(groups >2)) & is.na(groups_to_test) # TRUE or FALSE\n",
    "    \n",
    "    # do we have biological replicates?\n",
    "    ### if yes, paired version will be used\n",
    "    paired <- sum(!is.na(data$bio_rep)) # TRUE or FALSE\n",
    "    if(paired) {print(\"data are paired observations\")}\n",
    "    cat('\\n')\n",
    "\n",
    "    # pick the correct test\n",
    "    ### check the normality of distribution assumption in all groups\n",
    "    print(\"run Shapiro test to check the assumption of the distribution normality...\")\n",
    "    not_norm <- sapply(groups\n",
    "                   ,function(group){\n",
    "                       idx_group <- data$group == group\n",
    "                       pvalue <- shapiro.test(data$value[idx_group])$p.value\n",
    "                       \n",
    "                       print(group) # REMOVE THIS!!!!!!!!!!!!!!!!!!!!!!!!!!!!!!!!!!!!!!!!!!!!!!!\n",
    "                       ifelse(pvalue <= 0.05,print(\"non-normal\"),print(\"normal\")) # REMOVE THIS!!!!!!!!!!!!!!!!!!!!!!!!!!!!!!!!!!!!!!!!!!!!!!!\n",
    "                       pvalue <= 0.05\n",
    "                   })\n",
    "    norm_dist <- sum(not_norm)== 0 # TRUE or FALSE\n",
    "    print(\"overall distribution is:\") # REMOVE THIS!!!!!!!!!!!!!!!!!!!!!!!!!!!!!!!!!!!!!!!!!!!!!!!\n",
    "    ifelse(norm_dist,print(\"normal\"),print(\"non-normal\")) # REMOVE THIS!!!!!!!!!!!!!!!!!!!!!!!!!!!!!!!!!!!!!!!!!!!!!!!\n",
    "    cat('\\n')\n",
    "    \n",
    "    ### check the homogeneity of variance assumption in all groups\n",
    "    not_homogeneic <- if(norm_dist){\n",
    "        print(\"run Bartlett test to check the assumption of the variance homogeneity...\")\n",
    "        pvalue <- bartlett.test(value~group, data = data)$p.value \n",
    "        pvalue <= 0.05\n",
    "    } else {\n",
    "        print(\"run Fligner-Killeen test to check the assumption of the variance homogeneity...\")\n",
    "        pvalue <- fligner.test(value~group, data = data)$p.value \n",
    "        pvalue <= 0.05\n",
    "    }\n",
    "    \n",
    "    homo_var <- sum(not_homogeneic)== 0 # TRUE or FALSE\n",
    "    print(\"overall variance is:\") # REMOVE THIS!!!!!!!!!!!!!!!!!!!!!!!!!!!!!!!!!!!!!!!!!!!!!!!\n",
    "    ifelse(homo_var,print(\"stable\"),print(\"non-stable\")) # REMOVE THIS!!!!!!!!!!!!!!!!!!!!!!!!!!!!!!!!!!!!!!!!!!!!!!!\n",
    "    \n",
    "    ### pick the test\n",
    "    which_test <- if(norm_dist){ \n",
    "        ifelse(homo_var\n",
    "              ,\"t-test\"  # distribution is normal, variance is stable\n",
    "              ,\"Welch test\"  # distribution is normal, variance is not stable\n",
    "              )\n",
    "    }else {\n",
    "        ifelse(homo_var\n",
    "              ,\"Mann-Whitney U-test\"  # distribution is not normal, variance is stable\n",
    "              ,\"Mood's Median-test\" # distribution is not normal, variance is not stable\n",
    "              )\n",
    "    }\n",
    "    \n",
    "    ### run the test\n",
    "    run_one_comparison <- function(data){\n",
    "        if(which_test == \"t-test\"){\n",
    "            t_test(data, paired = paired)$p.value\n",
    "    } else if(which_test == \"Welch test\"){\n",
    "        welch_test(data, paired = paired)$p.value\n",
    "    } else if(which_test == \"Mann-Whitney U-test\"){\n",
    "        mann_whitney_u_test(data, paired = paired)$p.value\n",
    "    } else if(which_test == \"Mood's Median-test\"){\n",
    "        moods_median_test(data)$p.value\n",
    "    } else error(\"ERROR: undefined test\")\n",
    "        }\n",
    "    \n",
    "    p.values <- sapply(groups_to_test\n",
    "                      ,function(comparison){\n",
    "                          group1 <- sub(\" vs .*\",\"\",comparison)\n",
    "                          group2 <- sub(\".* vs \",\"\",comparison)\n",
    "                          \n",
    "                          idx <- data$group %in% c(group1, group2)\n",
    "                          run_one_comparison(data[idx,])\n",
    "                      })\n",
    "    \n",
    "    # adjust for multiple testing if needed\n",
    "    p.adjs <- p.adjust(p.values\n",
    "                      ,method = adjustment_method)\n",
    "        \n",
    "    \n",
    "    output <- data.frame(comparison = groups_to_test\n",
    "                        ,p.value = p.values)\n",
    "        \n",
    "    if(length(groups_to_test)> 1){output$p.adj = p.adjs}\n",
    "    \n",
    "    # print mesages\n",
    "    \n",
    "    cat('\\n')\n",
    "    print(paste0(\"Since the normality of distribution assumption is \"\n",
    "                ,ifelse(norm_dist\n",
    "                       ,\"met\"\n",
    "                       ,\"not met\"\n",
    "                       )\n",
    "                 ,\" and the homogeneity of variace assumption is \"\n",
    "                 ,ifelse(homo_var\n",
    "                        ,\"met\"\n",
    "                        ,\"not met\"\n",
    "                        )\n",
    "                 ,\", we use the \"\n",
    "                 ,which_test\n",
    "                 ,\".\"\n",
    "                )\n",
    "         )\n",
    "    \n",
    "    cat('\\n')\n",
    "    if(paired){print(paste0(\"Since we have several independent biological replicates as paired observations across groups, we use the paired version of the \"\n",
    "                           ,which_test\n",
    "                           ,\" test.\")\n",
    "                    )}\n",
    "    \n",
    "    \n",
    "    cat('\\n')\n",
    "    print(\"We are doing the comparison of the following group(s):\")\n",
    "    print(ifelse(all_vs_all\n",
    "          ,\"all vs all\"\n",
    "          ,groups_to_test))\n",
    "    \n",
    "    \n",
    "    cat('\\n')    \n",
    "    print(output)\n",
    "\n",
    "    # export results\n",
    "        write.table(output\n",
    "                 ,file = paste0(\"./output/\"\n",
    "                                ,experiment\n",
    "                                ,\"_stats.tsv\"\n",
    "                                )\n",
    "                 ,sep = \"\\t\"\n",
    "                 ,quote = FALSE\n",
    "                 ,col.names = TRUE\n",
    "                 ,row.names = FALSE)\n",
    "    \n",
    "}"
   ]
  },
  {
   "cell_type": "markdown",
   "metadata": {},
   "source": [
    "### Run analysis"
   ]
  },
  {
   "cell_type": "code",
   "execution_count": 6,
   "metadata": {
    "ExecuteTime": {
     "end_time": "2023-10-09T07:21:18.417093Z",
     "start_time": "2023-10-09T07:21:18.176Z"
    }
   },
   "outputs": [
    {
     "name": "stdout",
     "output_type": "stream",
     "text": [
      "'data.frame':\t51 obs. of  5 variables:\n",
      " $ value  : num  67.3 51.3 85.5 135.6 52.7 ...\n",
      " $ group  : chr  \"WT\" \"WT\" \"WT\" \"WT\" ...\n",
      " $ tec_rep: logi  NA NA NA NA NA NA ...\n",
      " $ bio_rep: logi  NA NA NA NA NA NA ...\n",
      " $ date   : logi  NA NA NA NA NA NA ...\n",
      "NULL\n",
      "\n",
      "[1] \"we have following groups in the data:\"\n",
      "[1] \"WT\"  \"MUT\"\n",
      "\n",
      "\n",
      "[1] \"run Shapiro test to check the assumption of the distribution normality...\"\n",
      "[1] \"WT\"\n",
      "[1] \"non-normal\"\n",
      "[1] \"MUT\"\n",
      "[1] \"normal\"\n",
      "[1] \"overall distribution is:\"\n",
      "[1] \"non-normal\"\n",
      "\n",
      "[1] \"run Fligner-Killeen test to check the assumption of the variance homogeneity...\"\n",
      "[1] \"overall variance is:\"\n",
      "[1] \"stable\"\n",
      "\n",
      "[1] \"Since the normality of distribution assumption is not met and the homogeneity of variace assumption is met, we use the Mann-Whitney U-test.\"\n",
      "\n",
      "\n",
      "[1] \"We are doing the comparison of the following group(s):\"\n",
      "[1] \"MUT vs WT\"\n",
      "\n",
      "          comparison   p.value\n",
      "MUT vs WT  MUT vs WT 0.1743283\n"
     ]
    }
   ],
   "source": [
    "run_statistics(\"Fig1C_DGEP\"\n",
    "              ,groups_to_test = \"MUT vs WT\")"
   ]
  },
  {
   "cell_type": "code",
   "execution_count": 7,
   "metadata": {
    "ExecuteTime": {
     "end_time": "2023-10-09T07:21:22.782016Z",
     "start_time": "2023-10-09T07:21:22.711Z"
    }
   },
   "outputs": [
    {
     "name": "stdout",
     "output_type": "stream",
     "text": [
      "'data.frame':\t43 obs. of  5 variables:\n",
      " $ value  : int  79 91 75 82 86 77 79 82 68 79 ...\n",
      " $ group  : chr  \"WT\" \"WT\" \"WT\" \"WT\" ...\n",
      " $ tec_rep: logi  NA NA NA NA NA NA ...\n",
      " $ bio_rep: logi  NA NA NA NA NA NA ...\n",
      " $ date   : logi  NA NA NA NA NA NA ...\n",
      "NULL\n",
      "\n",
      "[1] \"we have following groups in the data:\"\n",
      "[1] \"WT\"  \"MUT\"\n",
      "\n",
      "\n",
      "[1] \"run Shapiro test to check the assumption of the distribution normality...\"\n",
      "[1] \"WT\"\n",
      "[1] \"normal\"\n",
      "[1] \"MUT\"\n",
      "[1] \"normal\"\n",
      "[1] \"overall distribution is:\"\n",
      "[1] \"normal\"\n",
      "\n",
      "[1] \"run Bartlett test to check the assumption of the variance homogeneity...\"\n",
      "[1] \"overall variance is:\"\n",
      "[1] \"non-stable\"\n",
      "\n",
      "[1] \"Since the normality of distribution assumption is met and the homogeneity of variace assumption is not met, we use the Welch test.\"\n",
      "\n",
      "\n",
      "[1] \"We are doing the comparison of the following group(s):\"\n",
      "[1] \"MUT vs WT\"\n",
      "\n",
      "          comparison     p.value\n",
      "MUT vs WT  MUT vs WT 0.003058479\n"
     ]
    }
   ],
   "source": [
    "run_statistics(\"Fig1D_QMI\"\n",
    "              ,groups_to_test = \"MUT vs WT\")"
   ]
  },
  {
   "cell_type": "code",
   "execution_count": 8,
   "metadata": {
    "ExecuteTime": {
     "end_time": "2023-10-09T07:21:24.885427Z",
     "start_time": "2023-10-09T07:21:24.814Z"
    }
   },
   "outputs": [
    {
     "name": "stdout",
     "output_type": "stream",
     "text": [
      "'data.frame':\t9 obs. of  5 variables:\n",
      " $ value  : num  17.4 14.5 13 2.8 2.24 1.84 1.8 1.84 1.38\n",
      " $ group  : chr  \"WT\" \"WT\" \"WT\" \"het\" ...\n",
      " $ tec_rep: int  1 2 3 1 2 3 1 2 3\n",
      " $ bio_rep: logi  NA NA NA NA NA NA ...\n",
      " $ date   : int  NA 20200507 20200514 NA 20200507 20200514 NA 20200507 20200514\n",
      "NULL\n",
      "\n",
      "[1] \"we have following groups in the data:\"\n",
      "[1] \"WT\"  \"het\" \"KO\" \n",
      "\n",
      "\n",
      "[1] \"run Shapiro test to check the assumption of the distribution normality...\"\n",
      "[1] \"WT\"\n",
      "[1] \"normal\"\n",
      "[1] \"het\"\n",
      "[1] \"normal\"\n",
      "[1] \"KO\"\n",
      "[1] \"normal\"\n",
      "[1] \"overall distribution is:\"\n",
      "[1] \"normal\"\n",
      "\n",
      "[1] \"run Bartlett test to check the assumption of the variance homogeneity...\"\n",
      "[1] \"overall variance is:\"\n",
      "[1] \"non-stable\"\n",
      "\n",
      "[1] \"Since the normality of distribution assumption is met and the homogeneity of variace assumption is not met, we use the Welch test.\"\n",
      "\n",
      "\n",
      "[1] \"We are doing the comparison of the following group(s):\"\n",
      "[1] \"het vs WT\" \"KO vs WT\" \n",
      "\n",
      "          comparison     p.value      p.adj\n",
      "het vs WT  het vs WT 0.007950932 0.01590186\n",
      "KO vs WT    KO vs WT 0.008638760 0.01727752\n"
     ]
    }
   ],
   "source": [
    "run_statistics(\"Fig2B_FACS_OCI-Ly1\"\n",
    "              ,groups_to_test = c(\"het vs WT\"\n",
    "                                 ,\"KO vs WT\"\n",
    "                                 )\n",
    "              )"
   ]
  },
  {
   "cell_type": "code",
   "execution_count": 9,
   "metadata": {
    "ExecuteTime": {
     "end_time": "2023-10-09T07:21:27.454009Z",
     "start_time": "2023-10-09T07:21:27.363Z"
    }
   },
   "outputs": [
    {
     "name": "stdout",
     "output_type": "stream",
     "text": [
      "'data.frame':\t12 obs. of  5 variables:\n",
      " $ value  : num  21 18 14.4 3.7 5.81 4.37 2.4 3.05 1.72 17.2 ...\n",
      " $ group  : chr  \"WT\" \"WT\" \"WT\" \"het\" ...\n",
      " $ tec_rep: int  1 2 3 1 2 3 1 2 3 1 ...\n",
      " $ bio_rep: logi  NA NA NA NA NA NA ...\n",
      " $ date   : int  NA 20200507 20200514 NA 20200507 20200514 NA 20200507 20200514 NA ...\n",
      "NULL\n",
      "\n",
      "[1] \"we have following groups in the data:\"\n",
      "[1] \"WT\"         \"het\"        \"KO\"         \"het+ARID1A\"\n",
      "\n",
      "\n",
      "[1] \"run Shapiro test to check the assumption of the distribution normality...\"\n",
      "[1] \"WT\"\n",
      "[1] \"normal\"\n",
      "[1] \"het\"\n",
      "[1] \"normal\"\n",
      "[1] \"KO\"\n",
      "[1] \"normal\"\n",
      "[1] \"het+ARID1A\"\n",
      "[1] \"normal\"\n",
      "[1] \"overall distribution is:\"\n",
      "[1] \"normal\"\n",
      "\n",
      "[1] \"run Bartlett test to check the assumption of the variance homogeneity...\"\n",
      "[1] \"overall variance is:\"\n",
      "[1] \"stable\"\n",
      "\n",
      "[1] \"Since the normality of distribution assumption is met and the homogeneity of variace assumption is met, we use the t-test.\"\n",
      "\n",
      "\n",
      "[1] \"We are doing the comparison of the following group(s):\"\n",
      "[1] \"het vs WT\"        \"KO vs WT\"         \"het+ARID1A vs WT\"\n",
      "\n",
      "                       comparison    p.value      p.adj\n",
      "het vs WT               het vs WT 0.01349978 0.04049934\n",
      "KO vs WT                 KO vs WT 0.01238691 0.03716074\n",
      "het+ARID1A vs WT het+ARID1A vs WT 0.57441823 1.00000000\n"
     ]
    }
   ],
   "source": [
    "run_statistics(\"Fig2B_FACS_OCI-Ly8\"\n",
    "              ,groups_to_test = c(\"het vs WT\"\n",
    "                                 ,\"KO vs WT\"\n",
    "                                 ,\"het+ARID1A vs WT\")\n",
    "              )"
   ]
  },
  {
   "cell_type": "code",
   "execution_count": 10,
   "metadata": {
    "ExecuteTime": {
     "end_time": "2023-10-09T07:21:32.915676Z",
     "start_time": "2023-10-09T07:21:32.853Z"
    }
   },
   "outputs": [
    {
     "name": "stdout",
     "output_type": "stream",
     "text": [
      "'data.frame':\t9 obs. of  5 variables:\n",
      " $ value  : num  1 1 1 0.42 0.71 0.1 0.23 0.31 0.04\n",
      " $ group  : chr  \"WT\" \"WT\" \"WT\" \"het\" ...\n",
      " $ tec_rep: chr  \"exp 1\" \"exp 2\" \"exp 3\" \"exp 1\" ...\n",
      " $ bio_rep: logi  NA NA NA NA NA NA ...\n",
      " $ date   : logi  NA NA NA NA NA NA ...\n",
      "NULL\n",
      "\n",
      "[1] \"we have following groups in the data:\"\n",
      "[1] \"WT\"  \"het\" \"KO\" \n",
      "\n",
      "\n",
      "[1] \"run Shapiro test to check the assumption of the distribution normality...\"\n"
     ]
    },
    {
     "ename": "ERROR",
     "evalue": "Error in shapiro.test(data$value[idx_group]): alle 'x' Werte sind gleich\n",
     "output_type": "error",
     "traceback": [
      "Error in shapiro.test(data$value[idx_group]): alle 'x' Werte sind gleich\nTraceback:\n",
      "1. run_statistics(\"Fig2E_qPCR_OCI-Ly1\", groups_to_test = c(\"het vs WT\", \n .     \"KO vs WT\"))",
      "2. sapply(groups, function(group) {\n .     idx_group <- data$group == group\n .     pvalue <- shapiro.test(data$value[idx_group])$p.value\n .     print(group)\n .     ifelse(pvalue <= 0.05, print(\"non-normal\"), print(\"normal\"))\n .     pvalue <= 0.05\n . })   # at line 35-43 of file <text>",
      "3. lapply(X = X, FUN = FUN, ...)",
      "4. FUN(X[[i]], ...)",
      "5. shapiro.test(data$value[idx_group])   # at line 38 of file <text>",
      "6. stop(\"all 'x' values are identical\")"
     ]
    }
   ],
   "source": [
    "run_statistics(\"Fig2E_qPCR_OCI-Ly1\"\n",
    "              ,groups_to_test = c(\"het vs WT\"\n",
    "                                 ,\"KO vs WT\"\n",
    "                                 )\n",
    "              )"
   ]
  },
  {
   "cell_type": "code",
   "execution_count": null,
   "metadata": {
    "ExecuteTime": {
     "end_time": "2023-10-05T07:37:13.913088Z",
     "start_time": "2023-10-05T07:37:12.860Z"
    }
   },
   "outputs": [],
   "source": [
    "run_statistics(\"Fig2E_qPCR_OCI-Ly8\"\n",
    "              ,groups_to_test = c(\"het vs WT\"\n",
    "                                 ,\"KO vs WT\"\n",
    "                                 ,\"het+ARID1A vs WT\")\n",
    "              )"
   ]
  },
  {
   "cell_type": "code",
   "execution_count": null,
   "metadata": {
    "ExecuteTime": {
     "end_time": "2023-10-05T07:37:13.936573Z",
     "start_time": "2023-10-05T07:37:12.864Z"
    }
   },
   "outputs": [],
   "source": [
    "run_statistics(\"Fig3E_qPCR_OCI-Ly1\"\n",
    "              ,groups_to_test = c(\"het vs WT\"\n",
    "                                 ,\"KO vs WT\"\n",
    "                                 )\n",
    "              )"
   ]
  },
  {
   "cell_type": "code",
   "execution_count": null,
   "metadata": {
    "ExecuteTime": {
     "end_time": "2023-10-05T07:37:13.947834Z",
     "start_time": "2023-10-05T07:37:12.867Z"
    }
   },
   "outputs": [],
   "source": [
    "run_statistics(\"Fig3E_qPCR_OCI-Ly8\"\n",
    "              ,groups_to_test = c(\"het vs WT\"\n",
    "                                 ,\"KO vs WT\"\n",
    "                                 ,\"het+ARID1A vs WT\")\n",
    "              )"
   ]
  },
  {
   "cell_type": "code",
   "execution_count": 11,
   "metadata": {
    "ExecuteTime": {
     "end_time": "2023-10-09T07:21:41.915452Z",
     "start_time": "2023-10-09T07:21:41.803Z"
    }
   },
   "outputs": [
    {
     "name": "stdout",
     "output_type": "stream",
     "text": [
      "'data.frame':\t12 obs. of  5 variables:\n",
      " $ value  : num  1.1 1.14 0.765 7.2 5.7 ...\n",
      " $ group  : chr  \"0 ng\" \"0 ng\" \"0 ng\" \"50 ng\" ...\n",
      " $ tec_rep: chr  \"exp 1\" \"exp 2\" \"exp 3\" \"exp 1\" ...\n",
      " $ bio_rep: logi  NA NA NA NA NA NA ...\n",
      " $ date   : logi  NA NA NA NA NA NA ...\n",
      "NULL\n",
      "\n",
      "[1] \"we have following groups in the data:\"\n",
      "[1] \"0 ng\"   \"50 ng\"  \"200 ng\" \"500 ng\"\n",
      "\n",
      "\n",
      "[1] \"run Shapiro test to check the assumption of the distribution normality...\"\n",
      "[1] \"0 ng\"\n",
      "[1] \"normal\"\n",
      "[1] \"50 ng\"\n",
      "[1] \"normal\"\n",
      "[1] \"200 ng\"\n",
      "[1] \"normal\"\n",
      "[1] \"500 ng\"\n",
      "[1] \"non-normal\"\n",
      "[1] \"overall distribution is:\"\n",
      "[1] \"non-normal\"\n",
      "\n",
      "[1] \"run Fligner-Killeen test to check the assumption of the variance homogeneity...\"\n",
      "[1] \"overall variance is:\"\n",
      "[1] \"stable\"\n"
     ]
    },
    {
     "name": "stderr",
     "output_type": "stream",
     "text": [
      "Warning message in wilcox.test.default(x = DATA[[1L]], y = DATA[[2L]], ...):\n",
      "“kann bei Bindungen keinen exakten p-Wert Berechnen”\n"
     ]
    },
    {
     "name": "stdout",
     "output_type": "stream",
     "text": [
      "\n",
      "[1] \"Since the normality of distribution assumption is not met and the homogeneity of variace assumption is met, we use the Mann-Whitney U-test.\"\n",
      "\n",
      "\n",
      "[1] \"We are doing the comparison of the following group(s):\"\n",
      "[1] \"50 ng vs 0 ng\"  \"200 ng vs 0 ng\" \"500 ng vs 0 ng\"\n",
      "\n",
      "                   comparison   p.value     p.adj\n",
      "50 ng vs 0 ng   50 ng vs 0 ng 0.1000000 0.3000000\n",
      "200 ng vs 0 ng 200 ng vs 0 ng 0.1000000 0.3000000\n",
      "500 ng vs 0 ng 500 ng vs 0 ng 0.0765225 0.2295675\n"
     ]
    }
   ],
   "source": [
    "run_statistics(\"Fig4C_luc_promoter1\"\n",
    "              ,groups_to_test = c(\"50 ng vs 0 ng\"\n",
    "                                 ,\"200 ng vs 0 ng\"\n",
    "                                 ,\"500 ng vs 0 ng\")\n",
    "              )"
   ]
  },
  {
   "cell_type": "code",
   "execution_count": 12,
   "metadata": {
    "ExecuteTime": {
     "end_time": "2023-10-09T07:22:37.001205Z",
     "start_time": "2023-10-09T07:22:36.935Z"
    }
   },
   "outputs": [
    {
     "name": "stdout",
     "output_type": "stream",
     "text": [
      "'data.frame':\t12 obs. of  5 variables:\n",
      " $ value  : num  0.99 1.28 0.73 9.5 7.5 ...\n",
      " $ group  : chr  \"0 ng\" \"0 ng\" \"0 ng\" \"50 ng\" ...\n",
      " $ tec_rep: chr  \"exp 1\" \"exp 2\" \"exp 3\" \"exp 1\" ...\n",
      " $ bio_rep: logi  NA NA NA NA NA NA ...\n",
      " $ date   : logi  NA NA NA NA NA NA ...\n",
      "NULL\n",
      "\n",
      "[1] \"we have following groups in the data:\"\n",
      "[1] \"0 ng\"   \"50 ng\"  \"200 ng\" \"500 ng\"\n",
      "\n",
      "\n",
      "[1] \"run Shapiro test to check the assumption of the distribution normality...\"\n",
      "[1] \"0 ng\"\n",
      "[1] \"normal\"\n",
      "[1] \"50 ng\"\n",
      "[1] \"normal\"\n",
      "[1] \"200 ng\"\n",
      "[1] \"normal\"\n",
      "[1] \"500 ng\"\n",
      "[1] \"non-normal\"\n",
      "[1] \"overall distribution is:\"\n",
      "[1] \"non-normal\"\n",
      "\n",
      "[1] \"run Fligner-Killeen test to check the assumption of the variance homogeneity...\"\n",
      "[1] \"overall variance is:\"\n",
      "[1] \"stable\"\n"
     ]
    },
    {
     "name": "stderr",
     "output_type": "stream",
     "text": [
      "Warning message in wilcox.test.default(x = DATA[[1L]], y = DATA[[2L]], ...):\n",
      "“kann bei Bindungen keinen exakten p-Wert Berechnen”\n"
     ]
    },
    {
     "name": "stdout",
     "output_type": "stream",
     "text": [
      "\n",
      "[1] \"Since the normality of distribution assumption is not met and the homogeneity of variace assumption is met, we use the Mann-Whitney U-test.\"\n",
      "\n",
      "\n",
      "[1] \"We are doing the comparison of the following group(s):\"\n",
      "[1] \"50 ng vs 0 ng\"  \"200 ng vs 0 ng\" \"500 ng vs 0 ng\"\n",
      "\n",
      "                   comparison   p.value     p.adj\n",
      "50 ng vs 0 ng   50 ng vs 0 ng 0.1000000 0.3000000\n",
      "200 ng vs 0 ng 200 ng vs 0 ng 0.1000000 0.3000000\n",
      "500 ng vs 0 ng 500 ng vs 0 ng 0.0765225 0.2295675\n"
     ]
    }
   ],
   "source": [
    "run_statistics(\"Fig4C_luc_promoter2\"\n",
    "              ,groups_to_test = c(\"50 ng vs 0 ng\"\n",
    "                                 ,\"200 ng vs 0 ng\"\n",
    "                                 ,\"500 ng vs 0 ng\")\n",
    "              )"
   ]
  },
  {
   "cell_type": "code",
   "execution_count": null,
   "metadata": {
    "ExecuteTime": {
     "end_time": "2023-10-05T07:37:13.981980Z",
     "start_time": "2023-10-05T07:37:12.875Z"
    }
   },
   "outputs": [],
   "source": [
    "run_statistics(\"Fig4F_qPCR_OCI-Ly8\"\n",
    "              ,groups_to_test = c(\"het+RUNX3 vs het\"\n",
    "                                 ,\"het+RUNX3 vs WT\"\n",
    "                                 )\n",
    "              )"
   ]
  },
  {
   "cell_type": "code",
   "execution_count": 13,
   "metadata": {
    "ExecuteTime": {
     "end_time": "2023-10-09T07:22:46.958931Z",
     "start_time": "2023-10-09T07:22:46.909Z"
    }
   },
   "outputs": [
    {
     "name": "stdout",
     "output_type": "stream",
     "text": [
      "'data.frame':\t12 obs. of  5 variables:\n",
      " $ value  : num  20.5 22.8 18.3 13.4 16.5 9.72 31.1 29.9 14.8 7.6 ...\n",
      " $ group  : chr  \"WT\" \"WT\" \"WT\" \"het\" ...\n",
      " $ tec_rep: int  1 2 3 1 2 3 1 2 3 1 ...\n",
      " $ bio_rep: logi  NA NA NA NA NA NA ...\n",
      " $ date   : int  20210629 20210623 20210907 20210629 20210623 20210907 20210629 20210623 20210907 20210629 ...\n",
      "NULL\n",
      "\n",
      "[1] \"we have following groups in the data:\"\n",
      "[1] \"WT\"        \"het\"       \"het+RUNX3\" \"KO\"       \n",
      "\n",
      "\n",
      "[1] \"run Shapiro test to check the assumption of the distribution normality...\"\n",
      "[1] \"WT\"\n",
      "[1] \"normal\"\n",
      "[1] \"het\"\n",
      "[1] \"normal\"\n",
      "[1] \"het+RUNX3\"\n",
      "[1] \"normal\"\n",
      "[1] \"KO\"\n",
      "[1] \"normal\"\n",
      "[1] \"overall distribution is:\"\n",
      "[1] \"normal\"\n",
      "\n",
      "[1] \"run Bartlett test to check the assumption of the variance homogeneity...\"\n",
      "[1] \"overall variance is:\"\n",
      "[1] \"stable\"\n",
      "\n",
      "[1] \"Since the normality of distribution assumption is met and the homogeneity of variace assumption is met, we use the t-test.\"\n",
      "\n",
      "\n",
      "[1] \"We are doing the comparison of the following group(s):\"\n",
      "[1] \"het+RUNX3 vs het\" \"het+RUNX3 vs WT\" \n",
      "\n",
      "                       comparison   p.value     p.adj\n",
      "het+RUNX3 vs het het+RUNX3 vs het 0.1361080 0.2722161\n",
      "het+RUNX3 vs WT   het+RUNX3 vs WT 0.4646003 0.9292006\n"
     ]
    }
   ],
   "source": [
    "run_statistics(\"Fig4G_FACS_OCI-Ly8\"\n",
    "              ,groups_to_test = c(\"het+RUNX3 vs het\"\n",
    "                                 ,\"het+RUNX3 vs WT\"\n",
    "                                 )\n",
    "              )"
   ]
  },
  {
   "cell_type": "code",
   "execution_count": 14,
   "metadata": {
    "ExecuteTime": {
     "end_time": "2023-10-09T07:23:04.148526Z",
     "start_time": "2023-10-09T07:23:04.059Z"
    }
   },
   "outputs": [
    {
     "name": "stdout",
     "output_type": "stream",
     "text": [
      "'data.frame':\t48 obs. of  5 variables:\n",
      " $ value  : num  3.34 2.5 2.86 4.68 4.17 ...\n",
      " $ group  : chr  \"WT 0 ng\" \"WT 0 ng\" \"WT 0 ng\" \"het 0 ng\" ...\n",
      " $ tec_rep: int  1 2 3 1 2 3 1 2 3 1 ...\n",
      " $ bio_rep: logi  NA NA NA NA NA NA ...\n",
      " $ date   : logi  NA NA NA NA NA NA ...\n",
      "NULL\n",
      "\n",
      "[1] \"we have following groups in the data:\"\n",
      " [1] \"WT 0 ng\"          \"het 0 ng\"         \"het+RUNX3 0 ng\"   \"KO 0 ng\"         \n",
      " [5] \"WT 3 ng\"          \"het 3 ng\"         \"het+RUNX3 3 ng\"   \"KO 3 ng\"         \n",
      " [9] \"WT 30 ng\"         \"het 30 ng\"        \"het+RUNX3 30 ng\"  \"KO 30 ng\"        \n",
      "[13] \"WT 300 ng\"        \"het 300 ng\"       \"het+RUNX3 300 ng\" \"KO 300 ng\"       \n",
      "\n",
      "\n",
      "[1] \"run Shapiro test to check the assumption of the distribution normality...\"\n",
      "[1] \"WT 0 ng\"\n",
      "[1] \"normal\"\n",
      "[1] \"het 0 ng\"\n",
      "[1] \"normal\"\n",
      "[1] \"het+RUNX3 0 ng\"\n",
      "[1] \"normal\"\n",
      "[1] \"KO 0 ng\"\n",
      "[1] \"normal\"\n",
      "[1] \"WT 3 ng\"\n",
      "[1] \"normal\"\n",
      "[1] \"het 3 ng\"\n",
      "[1] \"normal\"\n",
      "[1] \"het+RUNX3 3 ng\"\n",
      "[1] \"normal\"\n",
      "[1] \"KO 3 ng\"\n",
      "[1] \"normal\"\n",
      "[1] \"WT 30 ng\"\n",
      "[1] \"non-normal\"\n",
      "[1] \"het 30 ng\"\n",
      "[1] \"normal\"\n",
      "[1] \"het+RUNX3 30 ng\"\n",
      "[1] \"normal\"\n",
      "[1] \"KO 30 ng\"\n",
      "[1] \"normal\"\n",
      "[1] \"WT 300 ng\"\n",
      "[1] \"normal\"\n",
      "[1] \"het 300 ng\"\n",
      "[1] \"normal\"\n",
      "[1] \"het+RUNX3 300 ng\"\n",
      "[1] \"normal\"\n",
      "[1] \"KO 300 ng\"\n",
      "[1] \"normal\"\n",
      "[1] \"overall distribution is:\"\n",
      "[1] \"non-normal\"\n",
      "\n",
      "[1] \"run Fligner-Killeen test to check the assumption of the variance homogeneity...\"\n",
      "[1] \"overall variance is:\"\n",
      "[1] \"stable\"\n",
      "\n",
      "[1] \"Since the normality of distribution assumption is not met and the homogeneity of variace assumption is met, we use the Mann-Whitney U-test.\"\n",
      "\n",
      "\n",
      "[1] \"We are doing the comparison of the following group(s):\"\n",
      " [1] \"het 0 ng vs WT 0 ng\"           \"het+RUNX3 0 ng vs WT 0 ng\"    \n",
      " [3] \"KO 0 ng vs WT 0 ng\"            \"het 3 ng vs WT 3 ng\"          \n",
      " [5] \"het+RUNX3 3 ng vs WT 3 ng\"     \"KO 3 ng vs WT 3 ng\"           \n",
      " [7] \"het 30 ng vs WT 30 ng\"         \"het+RUNX3 30 ng vs WT 30 ng\"  \n",
      " [9] \"KO 30 ng vs WT 30 ng\"          \"het 300 ng vs WT 300 ng\"      \n",
      "[11] \"het+RUNX3 300 ng vs WT 300 ng\" \"KO 300 ng vs WT 300 ng\"       \n",
      "\n",
      "                                                 comparison p.value p.adj\n",
      "het 0 ng vs WT 0 ng                     het 0 ng vs WT 0 ng     0.4     1\n",
      "het+RUNX3 0 ng vs WT 0 ng         het+RUNX3 0 ng vs WT 0 ng     0.7     1\n",
      "KO 0 ng vs WT 0 ng                       KO 0 ng vs WT 0 ng     0.1     1\n",
      "het 3 ng vs WT 3 ng                     het 3 ng vs WT 3 ng     0.7     1\n",
      "het+RUNX3 3 ng vs WT 3 ng         het+RUNX3 3 ng vs WT 3 ng     0.7     1\n",
      "KO 3 ng vs WT 3 ng                       KO 3 ng vs WT 3 ng     0.2     1\n",
      "het 30 ng vs WT 30 ng                 het 30 ng vs WT 30 ng     0.1     1\n",
      "het+RUNX3 30 ng vs WT 30 ng     het+RUNX3 30 ng vs WT 30 ng     0.4     1\n",
      "KO 30 ng vs WT 30 ng                   KO 30 ng vs WT 30 ng     0.1     1\n",
      "het 300 ng vs WT 300 ng             het 300 ng vs WT 300 ng     0.1     1\n",
      "het+RUNX3 300 ng vs WT 300 ng het+RUNX3 300 ng vs WT 300 ng     0.1     1\n",
      "KO 300 ng vs WT 300 ng               KO 300 ng vs WT 300 ng     0.1     1\n"
     ]
    }
   ],
   "source": [
    "run_statistics(\"Fig5B_FACS_OCI-Ly1\"\n",
    "              ,groups_to_test = c(\"het 0 ng vs WT 0 ng\"\n",
    "                                 ,\"het+RUNX3 0 ng vs WT 0 ng\"\n",
    "                                 ,\"KO 0 ng vs WT 0 ng\"\n",
    "                                  ,\"het 3 ng vs WT 3 ng\"\n",
    "                                 ,\"het+RUNX3 3 ng vs WT 3 ng\"\n",
    "                                 ,\"KO 3 ng vs WT 3 ng\"\n",
    "                                  ,\"het 30 ng vs WT 30 ng\"\n",
    "                                 ,\"het+RUNX3 30 ng vs WT 30 ng\"\n",
    "                                 ,\"KO 30 ng vs WT 30 ng\"\n",
    "                                  ,\"het 300 ng vs WT 300 ng\"\n",
    "                                 ,\"het+RUNX3 300 ng vs WT 300 ng\"\n",
    "                                 ,\"KO 300 ng vs WT 300 ng\"\n",
    "                                 )\n",
    "              )"
   ]
  },
  {
   "cell_type": "code",
   "execution_count": 15,
   "metadata": {
    "ExecuteTime": {
     "end_time": "2023-10-09T07:23:13.966517Z",
     "start_time": "2023-10-09T07:23:13.886Z"
    }
   },
   "outputs": [
    {
     "name": "stdout",
     "output_type": "stream",
     "text": [
      "'data.frame':\t48 obs. of  5 variables:\n",
      " $ value  : num  6.27 3.18 2.65 2.29 1.42 ...\n",
      " $ group  : chr  \"WT 0 ng\" \"WT 0 ng\" \"WT 0 ng\" \"het 0 ng\" ...\n",
      " $ tec_rep: int  1 2 3 1 2 3 1 2 3 1 ...\n",
      " $ bio_rep: logi  NA NA NA NA NA NA ...\n",
      " $ date   : logi  NA NA NA NA NA NA ...\n",
      "NULL\n",
      "\n",
      "[1] \"we have following groups in the data:\"\n",
      " [1] \"WT 0 ng\"          \"het 0 ng\"         \"het+RUNX3 0 ng\"   \"KO 0 ng\"         \n",
      " [5] \"WT 3 ng\"          \"het 3 ng\"         \"het+RUNX3 3 ng\"   \"KO 3 ng\"         \n",
      " [9] \"WT 30 ng\"         \"het 30 ng\"        \"het+RUNX3 30 ng\"  \"KO 30 ng\"        \n",
      "[13] \"WT 300 ng\"        \"het 300 ng\"       \"het+RUNX3 300 ng\" \"KO 300 ng\"       \n",
      "\n",
      "\n",
      "[1] \"run Shapiro test to check the assumption of the distribution normality...\"\n",
      "[1] \"WT 0 ng\"\n",
      "[1] \"normal\"\n",
      "[1] \"het 0 ng\"\n",
      "[1] \"normal\"\n",
      "[1] \"het+RUNX3 0 ng\"\n",
      "[1] \"normal\"\n",
      "[1] \"KO 0 ng\"\n",
      "[1] \"normal\"\n",
      "[1] \"WT 3 ng\"\n",
      "[1] \"normal\"\n",
      "[1] \"het 3 ng\"\n",
      "[1] \"normal\"\n",
      "[1] \"het+RUNX3 3 ng\"\n",
      "[1] \"normal\"\n",
      "[1] \"KO 3 ng\"\n",
      "[1] \"normal\"\n",
      "[1] \"WT 30 ng\"\n",
      "[1] \"normal\"\n",
      "[1] \"het 30 ng\"\n",
      "[1] \"normal\"\n",
      "[1] \"het+RUNX3 30 ng\"\n",
      "[1] \"normal\"\n",
      "[1] \"KO 30 ng\"\n",
      "[1] \"normal\"\n",
      "[1] \"WT 300 ng\"\n",
      "[1] \"normal\"\n",
      "[1] \"het 300 ng\"\n",
      "[1] \"normal\"\n",
      "[1] \"het+RUNX3 300 ng\"\n",
      "[1] \"non-normal\"\n",
      "[1] \"KO 300 ng\"\n",
      "[1] \"normal\"\n",
      "[1] \"overall distribution is:\"\n",
      "[1] \"non-normal\"\n",
      "\n",
      "[1] \"run Fligner-Killeen test to check the assumption of the variance homogeneity...\"\n",
      "[1] \"overall variance is:\"\n",
      "[1] \"stable\"\n",
      "\n",
      "[1] \"Since the normality of distribution assumption is not met and the homogeneity of variace assumption is met, we use the Mann-Whitney U-test.\"\n",
      "\n",
      "\n",
      "[1] \"We are doing the comparison of the following group(s):\"\n",
      " [1] \"het 0 ng vs WT 0 ng\"           \"het+RUNX3 0 ng vs WT 0 ng\"    \n",
      " [3] \"KO 0 ng vs WT 0 ng\"            \"het 3 ng vs WT 3 ng\"          \n",
      " [5] \"het+RUNX3 3 ng vs WT 3 ng\"     \"KO 3 ng vs WT 3 ng\"           \n",
      " [7] \"het 30 ng vs WT 30 ng\"         \"het+RUNX3 30 ng vs WT 30 ng\"  \n",
      " [9] \"KO 30 ng vs WT 30 ng\"          \"het 300 ng vs WT 300 ng\"      \n",
      "[11] \"het+RUNX3 300 ng vs WT 300 ng\" \"KO 300 ng vs WT 300 ng\"       \n",
      "\n",
      "                                                 comparison p.value p.adj\n",
      "het 0 ng vs WT 0 ng                     het 0 ng vs WT 0 ng     0.4     1\n",
      "het+RUNX3 0 ng vs WT 0 ng         het+RUNX3 0 ng vs WT 0 ng     1.0     1\n",
      "KO 0 ng vs WT 0 ng                       KO 0 ng vs WT 0 ng     0.4     1\n",
      "het 3 ng vs WT 3 ng                     het 3 ng vs WT 3 ng     0.1     1\n",
      "het+RUNX3 3 ng vs WT 3 ng         het+RUNX3 3 ng vs WT 3 ng     1.0     1\n",
      "KO 3 ng vs WT 3 ng                       KO 3 ng vs WT 3 ng     0.1     1\n",
      "het 30 ng vs WT 30 ng                 het 30 ng vs WT 30 ng     0.1     1\n",
      "het+RUNX3 30 ng vs WT 30 ng     het+RUNX3 30 ng vs WT 30 ng     0.4     1\n",
      "KO 30 ng vs WT 30 ng                   KO 30 ng vs WT 30 ng     0.1     1\n",
      "het 300 ng vs WT 300 ng             het 300 ng vs WT 300 ng     0.1     1\n",
      "het+RUNX3 300 ng vs WT 300 ng het+RUNX3 300 ng vs WT 300 ng     0.2     1\n",
      "KO 300 ng vs WT 300 ng               KO 300 ng vs WT 300 ng     0.1     1\n"
     ]
    }
   ],
   "source": [
    "run_statistics(\"Fig5B_FACS_OCI-Ly8\"\n",
    "              ,groups_to_test = c(\"het 0 ng vs WT 0 ng\"\n",
    "                                 ,\"het+RUNX3 0 ng vs WT 0 ng\"\n",
    "                                 ,\"KO 0 ng vs WT 0 ng\"\n",
    "                                  ,\"het 3 ng vs WT 3 ng\"\n",
    "                                 ,\"het+RUNX3 3 ng vs WT 3 ng\"\n",
    "                                 ,\"KO 3 ng vs WT 3 ng\"\n",
    "                                  ,\"het 30 ng vs WT 30 ng\"\n",
    "                                 ,\"het+RUNX3 30 ng vs WT 30 ng\"\n",
    "                                 ,\"KO 30 ng vs WT 30 ng\"\n",
    "                                  ,\"het 300 ng vs WT 300 ng\"\n",
    "                                 ,\"het+RUNX3 300 ng vs WT 300 ng\"\n",
    "                                 ,\"KO 300 ng vs WT 300 ng\"\n",
    "                                 )\n",
    "              )"
   ]
  },
  {
   "cell_type": "code",
   "execution_count": 16,
   "metadata": {
    "ExecuteTime": {
     "end_time": "2023-10-09T07:23:18.615509Z",
     "start_time": "2023-10-09T07:23:18.556Z"
    }
   },
   "outputs": [
    {
     "name": "stdout",
     "output_type": "stream",
     "text": [
      "'data.frame':\t20 obs. of  5 variables:\n",
      " $ value  : num  19.8 30.12 18.37 7.01 23.37 ...\n",
      " $ group  : chr  \"WT\" \"WT\" \"WT\" \"WT\" ...\n",
      " $ tec_rep: logi  NA NA NA NA NA NA ...\n",
      " $ bio_rep: chr  \"CD8.1\" \"CD8.2\" \"CD8.3\" \"CD8.333\" ...\n",
      " $ date   : int  20211201 20211207 20211220 20220316 20220318 20211201 20211207 20211220 20220316 20220318 ...\n",
      "NULL\n",
      "\n",
      "[1] \"we have following groups in the data:\"\n",
      "[1] \"WT\"        \"het\"       \"het+RUNX3\" \"KO\"       \n",
      "\n",
      "[1] \"data are paired observations\"\n",
      "\n",
      "[1] \"run Shapiro test to check the assumption of the distribution normality...\"\n",
      "[1] \"WT\"\n",
      "[1] \"normal\"\n",
      "[1] \"het\"\n",
      "[1] \"non-normal\"\n",
      "[1] \"het+RUNX3\"\n",
      "[1] \"normal\"\n",
      "[1] \"KO\"\n",
      "[1] \"non-normal\"\n",
      "[1] \"overall distribution is:\"\n",
      "[1] \"non-normal\"\n",
      "\n",
      "[1] \"run Fligner-Killeen test to check the assumption of the variance homogeneity...\"\n",
      "[1] \"overall variance is:\"\n",
      "[1] \"stable\"\n",
      "\n",
      "[1] \"Since the normality of distribution assumption is not met and the homogeneity of variace assumption is met, we use the Mann-Whitney U-test.\"\n",
      "\n",
      "[1] \"Since we have several independent biological replicates as paired observations across groups, we use the paired version of the Mann-Whitney U-test test.\"\n",
      "\n",
      "[1] \"We are doing the comparison of the following group(s):\"\n",
      "[1] \"het+RUNX3 vs het\" \"het+RUNX3 vs WT\" \n",
      "\n",
      "                       comparison p.value p.adj\n",
      "het+RUNX3 vs het het+RUNX3 vs het  0.0625 0.125\n",
      "het+RUNX3 vs WT   het+RUNX3 vs WT  0.6250 1.000\n"
     ]
    }
   ],
   "source": [
    "run_statistics(\"Fig5E_FACS_OCI-Ly8\"\n",
    "              ,groups_to_test = c(\"het+RUNX3 vs het\"\n",
    "                                 ,\"het+RUNX3 vs WT\"\n",
    "                                 )\n",
    "              )"
   ]
  },
  {
   "cell_type": "code",
   "execution_count": 17,
   "metadata": {
    "ExecuteTime": {
     "end_time": "2023-10-09T07:23:22.434772Z",
     "start_time": "2023-10-09T07:23:22.321Z"
    }
   },
   "outputs": [
    {
     "name": "stdout",
     "output_type": "stream",
     "text": [
      "'data.frame':\t12 obs. of  6 variables:\n",
      " $ value  : num  17.4 14.5 13 21 18 14.4 5.89 4.06 2.98 9.16 ...\n",
      " $ group  : chr  \"WT\" \"WT\" \"WT\" \"WT\" ...\n",
      " $ group2 : chr  \"OCI-Ly1\" \"OCI-Ly1\" \"OCI-Ly1\" \"OCI-Ly8\" ...\n",
      " $ tec_rep: int  1 2 3 1 2 3 1 2 3 1 ...\n",
      " $ bio_rep: logi  NA NA NA NA NA NA ...\n",
      " $ date   : logi  NA NA NA NA NA NA ...\n",
      "NULL\n",
      "\n",
      "[1] \"we have following groups in the data:\"\n",
      "[1] \"WT\"  \"MUT\"\n",
      "\n",
      "\n",
      "[1] \"run Shapiro test to check the assumption of the distribution normality...\"\n",
      "[1] \"WT\"\n",
      "[1] \"normal\"\n",
      "[1] \"MUT\"\n",
      "[1] \"normal\"\n",
      "[1] \"overall distribution is:\"\n",
      "[1] \"normal\"\n",
      "\n",
      "[1] \"run Bartlett test to check the assumption of the variance homogeneity...\"\n",
      "[1] \"overall variance is:\"\n",
      "[1] \"stable\"\n",
      "\n",
      "[1] \"Since the normality of distribution assumption is met and the homogeneity of variace assumption is met, we use the t-test.\"\n",
      "\n",
      "\n",
      "[1] \"We are doing the comparison of the following group(s):\"\n",
      "[1] \"MUT vs WT\"\n",
      "\n",
      "          comparison     p.value\n",
      "MUT vs WT  MUT vs WT 0.001363183\n"
     ]
    }
   ],
   "source": [
    "run_statistics(\"FigS1B_FACS\"\n",
    "              ,groups_to_test = c(\"MUT vs WT\")\n",
    "              )"
   ]
  },
  {
   "cell_type": "code",
   "execution_count": 18,
   "metadata": {
    "ExecuteTime": {
     "end_time": "2023-10-09T07:23:38.997539Z",
     "start_time": "2023-10-09T07:23:38.964Z"
    }
   },
   "outputs": [],
   "source": [
    "run_statistics(\"FigS2D_qPCR_OCI-Ly1\"\n",
    "              ,groups_to_test = c(\"het vs WT\"\n",
    "                                 ,\"het+RUNX3 vs WT\"\n",
    "                                 )\n",
    "              )"
   ]
  },
  {
   "cell_type": "code",
   "execution_count": 19,
   "metadata": {
    "ExecuteTime": {
     "end_time": "2023-10-09T07:23:49.541897Z",
     "start_time": "2023-10-09T07:23:49.479Z"
    }
   },
   "outputs": [
    {
     "name": "stdout",
     "output_type": "stream",
     "text": [
      "'data.frame':\t12 obs. of  5 variables:\n",
      " $ value  : num  23.3 16.6 14.9 7.01 3.96 5.18 12.7 7.01 11.9 8.99 ...\n",
      " $ group  : chr  \"WT\" \"WT\" \"WT\" \"het\" ...\n",
      " $ tec_rep: int  1 2 3 1 2 3 1 2 3 1 ...\n",
      " $ bio_rep: logi  NA NA NA NA NA NA ...\n",
      " $ date   : logi  NA NA NA NA NA NA ...\n",
      "NULL\n",
      "\n",
      "[1] \"we have following groups in the data:\"\n",
      "[1] \"WT\"        \"het\"       \"het+RUNX3\" \"KO\"       \n",
      "\n",
      "\n",
      "[1] \"run Shapiro test to check the assumption of the distribution normality...\"\n",
      "[1] \"WT\"\n",
      "[1] \"normal\"\n",
      "[1] \"het\"\n",
      "[1] \"normal\"\n",
      "[1] \"het+RUNX3\"\n",
      "[1] \"normal\"\n",
      "[1] \"KO\"\n",
      "[1] \"normal\"\n",
      "[1] \"overall distribution is:\"\n",
      "[1] \"normal\"\n",
      "\n",
      "[1] \"run Bartlett test to check the assumption of the variance homogeneity...\"\n",
      "[1] \"overall variance is:\"\n",
      "[1] \"stable\"\n",
      "\n",
      "[1] \"Since the normality of distribution assumption is met and the homogeneity of variace assumption is met, we use the t-test.\"\n",
      "\n",
      "\n",
      "[1] \"We are doing the comparison of the following group(s):\"\n",
      "[1] \"het+RUNX3 vs het\" \"het+RUNX3 vs WT\" \n",
      "\n",
      "                       comparison   p.value     p.adj\n",
      "het+RUNX3 vs het het+RUNX3 vs het 0.0826314 0.1652628\n",
      "het+RUNX3 vs WT   het+RUNX3 vs WT 0.0761375 0.1522750\n"
     ]
    }
   ],
   "source": [
    "run_statistics(\"FigS2E_FACS_OCI-Ly1\"\n",
    "              ,groups_to_test = c(\"het+RUNX3 vs het\"\n",
    "                                 ,\"het+RUNX3 vs WT\"\n",
    "                                 )\n",
    "              )"
   ]
  },
  {
   "cell_type": "code",
   "execution_count": 20,
   "metadata": {
    "ExecuteTime": {
     "end_time": "2023-10-09T07:23:52.736026Z",
     "start_time": "2023-10-09T07:23:52.586Z"
    }
   },
   "outputs": [
    {
     "data": {
      "text/plain": [
       "R version 4.2.2 (2022-10-31)\n",
       "Platform: x86_64-apple-darwin17.0 (64-bit)\n",
       "Running under: macOS Catalina 10.15.7\n",
       "\n",
       "Matrix products: default\n",
       "BLAS:   /Library/Frameworks/R.framework/Versions/4.2/Resources/lib/libRblas.0.dylib\n",
       "LAPACK: /Library/Frameworks/R.framework/Versions/4.2/Resources/lib/libRlapack.dylib\n",
       "\n",
       "locale:\n",
       "[1] C/UTF-8/C/C/C/C\n",
       "\n",
       "attached base packages:\n",
       "[1] stats     graphics  grDevices utils     datasets  methods   base     \n",
       "\n",
       "loaded via a namespace (and not attached):\n",
       " [1] fansi_1.0.4     crayon_1.5.2    digest_0.6.33   utf8_1.2.3     \n",
       " [5] IRdisplay_1.1   repr_1.1.4      lifecycle_1.0.3 jsonlite_1.8.7 \n",
       " [9] evaluate_0.21   pillar_1.9.0    rlang_1.1.1     cli_3.6.1      \n",
       "[13] uuid_1.1-0      vctrs_0.6.3     IRkernel_1.3.1  tools_4.2.2    \n",
       "[17] glue_1.6.2      fastmap_1.1.1   compiler_4.2.2  base64enc_0.1-3\n",
       "[21] pbdZMQ_0.3-8    htmltools_0.5.6"
      ]
     },
     "metadata": {},
     "output_type": "display_data"
    }
   ],
   "source": [
    "sessionInfo()"
   ]
  },
  {
   "cell_type": "code",
   "execution_count": null,
   "metadata": {},
   "outputs": [],
   "source": []
  }
 ],
 "metadata": {
  "kernelspec": {
   "display_name": "R",
   "language": "R",
   "name": "ir"
  },
  "language_info": {
   "codemirror_mode": "r",
   "file_extension": ".r",
   "mimetype": "text/x-r-source",
   "name": "R",
   "pygments_lexer": "r",
   "version": "4.2.2"
  },
  "toc": {
   "base_numbering": 1,
   "nav_menu": {},
   "number_sections": true,
   "sideBar": true,
   "skip_h1_title": false,
   "title_cell": "Table of Contents",
   "title_sidebar": "Contents",
   "toc_cell": false,
   "toc_position": {},
   "toc_section_display": true,
   "toc_window_display": false
  }
 },
 "nbformat": 4,
 "nbformat_minor": 4
}
