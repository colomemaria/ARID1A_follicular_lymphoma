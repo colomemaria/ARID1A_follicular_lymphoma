{
 "cells": [
  {
   "cell_type": "markdown",
   "metadata": {},
   "source": [
    "# Libraries"
   ]
  },
  {
   "cell_type": "code",
   "execution_count": 1,
   "metadata": {
    "ExecuteTime": {
     "end_time": "2023-08-23T11:39:33.075263Z",
     "start_time": "2023-08-23T11:39:14.993Z"
    }
   },
   "outputs": [
    {
     "name": "stderr",
     "output_type": "stream",
     "text": [
      "\n",
      "\n",
      "Lade nötiges Paket: BiocGenerics\n",
      "\n",
      "\n",
      "Attache Paket: ‘BiocGenerics’\n",
      "\n",
      "\n",
      "Die folgenden Objekte sind maskiert von ‘package:stats’:\n",
      "\n",
      "    IQR, mad, sd, var, xtabs\n",
      "\n",
      "\n",
      "Die folgenden Objekte sind maskiert von ‘package:base’:\n",
      "\n",
      "    Filter, Find, Map, Position, Reduce, anyDuplicated, aperm, append,\n",
      "    as.data.frame, basename, cbind, colnames, dirname, do.call,\n",
      "    duplicated, eval, evalq, get, grep, grepl, intersect, is.unsorted,\n",
      "    lapply, mapply, match, mget, order, paste, pmax, pmax.int, pmin,\n",
      "    pmin.int, rank, rbind, rownames, sapply, setdiff, sort, table,\n",
      "    tapply, union, unique, unsplit, which.max, which.min\n",
      "\n",
      "\n",
      "Lade nötiges Paket: S4Vectors\n",
      "\n",
      "Lade nötiges Paket: stats4\n",
      "\n",
      "\n",
      "Attache Paket: ‘S4Vectors’\n",
      "\n",
      "\n",
      "Die folgenden Objekte sind maskiert von ‘package:base’:\n",
      "\n",
      "    I, expand.grid, unname\n",
      "\n",
      "\n",
      "Lade nötiges Paket: IRanges\n",
      "\n",
      "Lade nötiges Paket: XVector\n",
      "\n",
      "Lade nötiges Paket: GenomeInfoDb\n",
      "\n",
      "\n",
      "Attache Paket: ‘Biostrings’\n",
      "\n",
      "\n",
      "Das folgende Objekt ist maskiert ‘package:base’:\n",
      "\n",
      "    strsplit\n",
      "\n",
      "\n",
      "\n",
      "Attache Paket: ‘seqinr’\n",
      "\n",
      "\n",
      "Das folgende Objekt ist maskiert ‘package:Biostrings’:\n",
      "\n",
      "    translate\n",
      "\n",
      "\n"
     ]
    }
   ],
   "source": [
    "library(TFBSTools)\n",
    "library(Biostrings)\n",
    "library(JASPAR2020)\n",
    "library(seqinr)"
   ]
  },
  {
   "cell_type": "code",
   "execution_count": 2,
   "metadata": {
    "ExecuteTime": {
     "end_time": "2023-08-23T11:39:33.377747Z",
     "start_time": "2023-08-23T11:39:14.997Z"
    }
   },
   "outputs": [
    {
     "data": {
      "text/plain": [
       "R version 4.2.2 (2022-10-31)\n",
       "Platform: x86_64-apple-darwin17.0 (64-bit)\n",
       "Running under: macOS Catalina 10.15.7\n",
       "\n",
       "Matrix products: default\n",
       "BLAS:   /Library/Frameworks/R.framework/Versions/4.2/Resources/lib/libRblas.0.dylib\n",
       "LAPACK: /Library/Frameworks/R.framework/Versions/4.2/Resources/lib/libRlapack.dylib\n",
       "\n",
       "locale:\n",
       "[1] C/UTF-8/C/C/C/C\n",
       "\n",
       "attached base packages:\n",
       "[1] stats4    stats     graphics  grDevices utils     datasets  methods  \n",
       "[8] base     \n",
       "\n",
       "other attached packages:\n",
       "[1] seqinr_4.2-16       JASPAR2020_0.99.10  Biostrings_2.66.0  \n",
       "[4] GenomeInfoDb_1.34.9 XVector_0.38.0      IRanges_2.32.0     \n",
       "[7] S4Vectors_0.36.2    BiocGenerics_0.44.0 TFBSTools_1.36.0   \n",
       "\n",
       "loaded via a namespace (and not attached):\n",
       " [1] bitops_1.0-7                matrixStats_1.0.0          \n",
       " [3] DirichletMultinomial_1.40.0 bit64_4.0.5                \n",
       " [5] httr_1.4.7                  repr_1.1.4                 \n",
       " [7] tools_4.2.2                 utf8_1.2.3                 \n",
       " [9] R6_2.5.1                    seqLogo_1.64.0             \n",
       "[11] DBI_1.1.3                   colorspace_2.1-0           \n",
       "[13] ade4_1.7-20                 tidyselect_1.2.0           \n",
       "[15] bit_4.0.5                   compiler_4.2.2             \n",
       "[17] cli_3.6.1                   Biobase_2.58.0             \n",
       "[19] DelayedArray_0.24.0         rtracklayer_1.58.0         \n",
       "[21] caTools_1.18.2              scales_1.2.1               \n",
       "[23] readr_2.1.4                 pbdZMQ_0.3-8               \n",
       "[25] stringr_1.5.0               digest_0.6.33              \n",
       "[27] Rsamtools_2.14.0            R.utils_2.12.2             \n",
       "[29] base64enc_0.1-3             pkgconfig_2.0.3            \n",
       "[31] htmltools_0.5.6             MatrixGenerics_1.10.0      \n",
       "[33] fastmap_1.1.1               BSgenome_1.66.1            \n",
       "[35] rlang_1.1.1                 RSQLite_2.3.1              \n",
       "[37] BiocIO_1.8.0                generics_0.1.3             \n",
       "[39] jsonlite_1.8.7              BiocParallel_1.32.6        \n",
       "[41] gtools_3.9.3                dplyr_1.1.2                \n",
       "[43] R.oo_1.25.0                 RCurl_1.98-1.12            \n",
       "[45] magrittr_2.0.3              GO.db_3.16.0               \n",
       "[47] GenomeInfoDbData_1.2.9      Matrix_1.5-3               \n",
       "[49] Rcpp_1.0.11                 IRkernel_1.3.1             \n",
       "[51] munsell_0.5.0               fansi_1.0.4                \n",
       "[53] lifecycle_1.0.3             R.methodsS3_1.8.2          \n",
       "[55] stringi_1.7.12              yaml_2.3.7                 \n",
       "[57] MASS_7.3-58.1               SummarizedExperiment_1.28.0\n",
       "[59] zlibbioc_1.44.0             plyr_1.8.8                 \n",
       "[61] grid_4.2.2                  blob_1.2.4                 \n",
       "[63] parallel_4.2.2              crayon_1.5.2               \n",
       "[65] CNEr_1.34.0                 lattice_0.20-45            \n",
       "[67] IRdisplay_1.1               annotate_1.76.0            \n",
       "[69] hms_1.1.3                   KEGGREST_1.38.0            \n",
       "[71] pillar_1.9.0                GenomicRanges_1.50.2       \n",
       "[73] uuid_1.1-0                  rjson_0.2.21               \n",
       "[75] reshape2_1.4.4              codetools_0.2-18           \n",
       "[77] TFMPvalue_0.0.9             XML_3.99-0.14              \n",
       "[79] glue_1.6.2                  evaluate_0.21              \n",
       "[81] vctrs_0.6.3                 png_0.1-8                  \n",
       "[83] tzdb_0.4.0                  gtable_0.3.3               \n",
       "[85] poweRlaw_0.70.6             cachem_1.0.8               \n",
       "[87] ggplot2_3.4.2               xtable_1.8-4               \n",
       "[89] restfulr_0.0.15             pracma_2.4.2               \n",
       "[91] tibble_3.2.1                GenomicAlignments_1.34.1   \n",
       "[93] AnnotationDbi_1.60.2        memoise_2.0.1              "
      ]
     },
     "metadata": {},
     "output_type": "display_data"
    }
   ],
   "source": [
    "sessionInfo()"
   ]
  },
  {
   "cell_type": "markdown",
   "metadata": {},
   "source": [
    "# Variables"
   ]
  },
  {
   "cell_type": "markdown",
   "metadata": {},
   "source": [
    "FAS coordinates were taken from here: https://www.ensembl.org/Homo_sapiens/Gene/Summary?db=core;g=ENSG00000026103;r=10:88953813-89029605"
   ]
  },
  {
   "cell_type": "code",
   "execution_count": 3,
   "metadata": {
    "ExecuteTime": {
     "end_time": "2023-08-23T11:39:33.421016Z",
     "start_time": "2023-08-23T11:39:15.001Z"
    }
   },
   "outputs": [],
   "source": [
    "FAS_start <- 88953813"
   ]
  },
  {
   "cell_type": "code",
   "execution_count": 4,
   "metadata": {
    "ExecuteTime": {
     "end_time": "2023-08-23T11:39:33.475632Z",
     "start_time": "2023-08-23T11:39:15.005Z"
    }
   },
   "outputs": [],
   "source": [
    "FAS_end <- 89029605"
   ]
  },
  {
   "cell_type": "markdown",
   "metadata": {},
   "source": [
    "# Load data"
   ]
  },
  {
   "cell_type": "markdown",
   "metadata": {},
   "source": [
    "The Chr10 fasta sequence was downloaded from here: https://www.ensembl.org/Homo_sapiens/Info/Index"
   ]
  },
  {
   "cell_type": "code",
   "execution_count": 5,
   "metadata": {
    "ExecuteTime": {
     "end_time": "2023-08-23T11:40:03.048005Z",
     "start_time": "2023-08-23T11:39:15.009Z"
    }
   },
   "outputs": [
    {
     "name": "stdout",
     "output_type": "stream",
     "text": [
      "List of 1\n",
      " $ 10: 'SeqFastadna' chr [1:133797422] \"n\" \"n\" \"n\" \"n\" ...\n",
      "  ..- attr(*, \"name\")= chr \"10\"\n",
      "  ..- attr(*, \"Annot\")= chr \">10 dna_sm:chromosome chromosome:GRCh38:10:1:133797422:1 REF\"\n",
      "NULL\n"
     ]
    }
   ],
   "source": [
    "chr10_sequence <- read.fasta(\"Homo_sapiens.GRCh38.dna_sm.chromosome.10.fa\")\n",
    "print(str(chr10_sequence))"
   ]
  },
  {
   "cell_type": "code",
   "execution_count": 6,
   "metadata": {
    "ExecuteTime": {
     "end_time": "2023-08-23T11:40:06.499710Z",
     "start_time": "2023-08-23T11:39:15.013Z"
    }
   },
   "outputs": [
    {
     "name": "stdout",
     "output_type": "stream",
     "text": [
      "'data.frame':\t108335 obs. of  46 variables:\n",
      " $ cell_line           : chr  \"OCI-Ly1\" \"OCI-Ly1\" \"OCI-Ly1\" \"OCI-Ly1\" ...\n",
      " $ peakID              : chr  \"1_181400_181555\" \"1_629896_629990\" \"1_804858_805040\" \"1_827273_827761\" ...\n",
      " $ Chr                 : chr  \"1\" \"1\" \"1\" \"1\" ...\n",
      " $ Start               : int  181400 629896 804858 827273 865730 869766 915579 919766 920550 921144 ...\n",
      " $ End                 : int  181555 629990 805040 827761 865924 870035 915747 919853 920834 921348 ...\n",
      " $ mean_count          : num  21.2 1844.8 23 90.5 27.8 ...\n",
      " $ threshold_mean_count: int  20 20 20 20 20 20 20 20 20 20 ...\n",
      " $ filter_mean_count   : logi  TRUE TRUE TRUE TRUE TRUE TRUE ...\n",
      " $ threshold_count     : int  20 20 20 20 20 20 20 20 20 20 ...\n",
      " $ filter_count        : logi  TRUE TRUE TRUE TRUE TRUE TRUE ...\n",
      " $ annoPackage         : chr  \"ChIPseeker.v1.8.6\" \"ChIPseeker.v1.8.6\" \"ChIPseeker.v1.8.6\" \"ChIPseeker.v1.8.6\" ...\n",
      " $ TxDb                : chr  \"TxDb.Hsapiens.UCSC.hg38.knownGene\" \"TxDb.Hsapiens.UCSC.hg38.knownGene\" \"TxDb.Hsapiens.UCSC.hg38.knownGene\" \"TxDb.Hsapiens.UCSC.hg38.knownGene\" ...\n",
      " $ tssRegion           : chr  \"-5000, 5000\" \"-5000, 5000\" \"-5000, 5000\" \"-5000, 5000\" ...\n",
      " $ level               : chr  \"transcript\" \"transcript\" \"transcript\" \"transcript\" ...\n",
      " $ genic               : logi  FALSE TRUE TRUE TRUE TRUE TRUE ...\n",
      " $ Intergenic          : logi  TRUE FALSE FALSE FALSE FALSE FALSE ...\n",
      " $ Promoter            : logi  TRUE TRUE TRUE TRUE TRUE TRUE ...\n",
      " $ fiveUTR             : logi  FALSE FALSE FALSE FALSE FALSE FALSE ...\n",
      " $ threeUTR            : logi  FALSE FALSE FALSE FALSE FALSE FALSE ...\n",
      " $ Exon                : logi  FALSE TRUE TRUE TRUE TRUE FALSE ...\n",
      " $ Intron              : logi  FALSE TRUE TRUE TRUE TRUE TRUE ...\n",
      " $ downstream          : logi  FALSE FALSE TRUE FALSE FALSE FALSE ...\n",
      " $ distal_intergenic   : logi  FALSE FALSE FALSE FALSE FALSE FALSE ...\n",
      " $ annotation          : chr  \"Promoter (1-2kb)\" \"Promoter (1-2kb)\" \"Promoter (<=1kb)\" \"Promoter (<=1kb)\" ...\n",
      " $ geneChr             : int  1 1 1 1 1 1 1 1 1 1 ...\n",
      " $ geneStart           : int  182696 627377 803934 827598 868240 868240 917370 916870 916870 916870 ...\n",
      " $ geneEnd             : int  184174 631150 807435 859446 870201 870201 918534 919692 919692 919692 ...\n",
      " $ geneLength          : int  1479 3774 3502 31849 1962 1962 1165 2823 2823 2823 ...\n",
      " $ geneStrand          : int  1 2 1 1 2 2 2 2 2 2 ...\n",
      " $ geneId              : int  102725121 101928626 105378580 643837 284593 284593 100130417 100130417 100130417 100130417 ...\n",
      " $ transcriptId        : chr  \"ENST00000624431.2\" \"ENST00000452176.2\" \"ENST00000667728.1\" \"ENST00000445118.7\" ...\n",
      " $ distanceToTSS       : int  -1141 1160 924 0 4277 166 2787 -74 -858 -1452 ...\n",
      " $ ENSEMBL             : chr  \"ENSG00000223972\" \"ENSG00000230021\" \"ENSG00000237491\" \"ENSG00000228794\" ...\n",
      " $ SYMBOL              : chr  \"DDX11L17\" \"LOC101928626\" \"LINC01409\" \"LINC01128\" ...\n",
      " $ GENENAME            : chr  \"DEAD/H-box helicase 11 like 17 (pseudogene)\" \"uncharacterized LOC101928626\" \"long intergenic non-protein coding RNA 1409\" \"long intergenic non-protein coding RNA 1128\" ...\n",
      " $ baseMean            : num  22.9 1793.7 20.3 81.2 24.8 ...\n",
      " $ log2FoldChange      : num  -1.235 0.311 0.43 0.054 -0.695 ...\n",
      " $ lfcSE               : num  0.541 0.188 0.42 0.234 0.436 ...\n",
      " $ stat                : num  -0.434 0 0 0 0 ...\n",
      " $ pvalue              : num  0.664 1 1 1 1 ...\n",
      " $ padj                : num  1 1 1 1 1 1 1 1 1 1 ...\n",
      " $ threshold_padj      : num  0.1 0.1 0.1 0.1 0.1 0.1 0.1 0.1 0.1 0.1 ...\n",
      " $ threshold_lfc       : int  1 1 1 1 1 1 1 1 1 1 ...\n",
      " $ is_diff             : logi  FALSE FALSE FALSE FALSE FALSE FALSE ...\n",
      " $ is_up_in_mut        : logi  FALSE FALSE FALSE FALSE FALSE FALSE ...\n",
      " $ is_down_in_mut      : logi  FALSE FALSE FALSE FALSE FALSE FALSE ...\n",
      "NULL\n"
     ]
    }
   ],
   "source": [
    "# load DO peaks\n",
    "# read in DO peaks\n",
    "all_peaks <- read.csv(\"TableS1_diffPeaks_onPromoters.txt\"\n",
    "                     ,sep = \"\\t\"\n",
    "                     ,header = TRUE)\n",
    "print(str(all_peaks))"
   ]
  },
  {
   "cell_type": "markdown",
   "metadata": {},
   "source": [
    "# FAS sequence"
   ]
  },
  {
   "cell_type": "code",
   "execution_count": 7,
   "metadata": {
    "ExecuteTime": {
     "end_time": "2023-08-23T11:40:47.730124Z",
     "start_time": "2023-08-23T11:39:15.018Z"
    }
   },
   "outputs": [
    {
     "name": "stdout",
     "output_type": "stream",
     "text": [
      " chr \"nnnnnnnnnnnnnnnnnnnnnnnnnnnnnnnnnnnnnnnnnnnnnnnnnnnnnnnnnnnnnnnnnnnnnnnnnnnnnnnnnnnnnnnnnnnnnnnnnnnnnnnnnnnnnnn\"| __truncated__\n",
      "NULL\n"
     ]
    }
   ],
   "source": [
    "chr10_sequence <- paste(chr10_sequence$'10', collapse = '')\n",
    "print(str(chr10_sequence))"
   ]
  },
  {
   "cell_type": "code",
   "execution_count": 8,
   "metadata": {
    "ExecuteTime": {
     "end_time": "2023-08-23T11:40:48.250433Z",
     "start_time": "2023-08-23T11:39:15.021Z"
    }
   },
   "outputs": [
    {
     "name": "stdout",
     "output_type": "stream",
     "text": [
      " chr \"CTTGCTCTCTCTCGCCTGCTGCCATGTAAGACACGCCTCTTCCCCTTTTGCCATGAGTTTAAGTTTCTTGAGGCCTCCCCAGCCATGCAGAACTGTGAGTAAATTAAACCT\"| __truncated__\n",
      "NULL\n"
     ]
    }
   ],
   "source": [
    "FAS_sequence <- toupper(substr(chr10_sequence\n",
    "                      ,FAS_start\n",
    "                      ,FAS_end\n",
    "                      ))\n",
    "print(str(FAS_sequence))"
   ]
  },
  {
   "cell_type": "code",
   "execution_count": 9,
   "metadata": {
    "ExecuteTime": {
     "end_time": "2023-08-23T11:40:48.419569Z",
     "start_time": "2023-08-23T11:39:15.024Z"
    }
   },
   "outputs": [],
   "source": [
    "rm(chr10_sequence)"
   ]
  },
  {
   "cell_type": "markdown",
   "metadata": {},
   "source": [
    "# Run analysis"
   ]
  },
  {
   "cell_type": "markdown",
   "metadata": {},
   "source": [
    "The JASPAR matrix for ETS1 can be found here: https://jaspar.genereg.net/search?q=ets1&collection=all&tax_group=all&tax_id=all&type=all&class=all&family=all&version=all"
   ]
  },
  {
   "cell_type": "markdown",
   "metadata": {},
   "source": [
    "We will take the matrix MA0098.3"
   ]
  },
  {
   "cell_type": "code",
   "execution_count": 10,
   "metadata": {
    "ExecuteTime": {
     "end_time": "2023-08-23T11:40:49.244940Z",
     "start_time": "2023-08-23T11:39:15.029Z"
    }
   },
   "outputs": [
    {
     "name": "stderr",
     "output_type": "stream",
     "text": [
      "Warning message in result_fetch(res@ptr, n = n):\n",
      "“SQL statements must be issued with dbExecute() or dbSendStatement() instead of dbGetQuery() or dbSendQuery().”\n",
      "Warning message in result_fetch(res@ptr, n = n):\n",
      "“SQL statements must be issued with dbExecute() or dbSendStatement() instead of dbGetQuery() or dbSendQuery().”\n",
      "Warning message in result_fetch(res@ptr, n = n):\n",
      "“SQL statements must be issued with dbExecute() or dbSendStatement() instead of dbGetQuery() or dbSendQuery().”\n",
      "Warning message in result_fetch(res@ptr, n = n):\n",
      "“SQL statements must be issued with dbExecute() or dbSendStatement() instead of dbGetQuery() or dbSendQuery().”\n",
      "Warning message in result_fetch(res@ptr, n = n):\n",
      "“SQL statements must be issued with dbExecute() or dbSendStatement() instead of dbGetQuery() or dbSendQuery().”\n",
      "Warning message in result_fetch(res@ptr, n = n):\n",
      "“SQL statements must be issued with dbExecute() or dbSendStatement() instead of dbGetQuery() or dbSendQuery().”\n",
      "Warning message in result_fetch(res@ptr, n = n):\n",
      "“SQL statements must be issued with dbExecute() or dbSendStatement() instead of dbGetQuery() or dbSendQuery().”\n",
      "Warning message in result_fetch(res@ptr, n = n):\n",
      "“SQL statements must be issued with dbExecute() or dbSendStatement() instead of dbGetQuery() or dbSendQuery().”\n",
      "Warning message in result_fetch(res@ptr, n = n):\n",
      "“SQL statements must be issued with dbExecute() or dbSendStatement() instead of dbGetQuery() or dbSendQuery().”\n",
      "Warning message in result_fetch(res@ptr, n = n):\n",
      "“SQL statements must be issued with dbExecute() or dbSendStatement() instead of dbGetQuery() or dbSendQuery().”\n",
      "Warning message in result_fetch(res@ptr, n = n):\n",
      "“SQL statements must be issued with dbExecute() or dbSendStatement() instead of dbGetQuery() or dbSendQuery().”\n",
      "Warning message in result_fetch(res@ptr, n = n):\n",
      "“SQL statements must be issued with dbExecute() or dbSendStatement() instead of dbGetQuery() or dbSendQuery().”\n",
      "Warning message in result_fetch(res@ptr, n = n):\n",
      "“SQL statements must be issued with dbExecute() or dbSendStatement() instead of dbGetQuery() or dbSendQuery().”\n",
      "Warning message in result_fetch(res@ptr, n = n):\n",
      "“SQL statements must be issued with dbExecute() or dbSendStatement() instead of dbGetQuery() or dbSendQuery().”\n"
     ]
    },
    {
     "data": {
      "text/html": [
       "'Success'"
      ],
      "text/latex": [
       "'Success'"
      ],
      "text/markdown": [
       "'Success'"
      ],
      "text/plain": [
       "[1] \"Success\""
      ]
     },
     "metadata": {},
     "output_type": "display_data"
    }
   ],
   "source": [
    "db <- \"myMatrixDb.sqlite\"\n",
    "initializeJASPARDB(db, version=\"2020\")"
   ]
  },
  {
   "cell_type": "code",
   "execution_count": 11,
   "metadata": {
    "ExecuteTime": {
     "end_time": "2023-08-23T11:40:50.442559Z",
     "start_time": "2023-08-23T11:39:15.033Z"
    }
   },
   "outputs": [
    {
     "data": {
      "text/plain": [
       "PFMatrixList of length 2\n",
       "names(2): MA0098.1 MA0098.3"
      ]
     },
     "metadata": {},
     "output_type": "display_data"
    },
    {
     "name": "stdout",
     "output_type": "stream",
     "text": [
      "Formal class 'PFMatrixList' [package \"TFBSTools\"] with 4 slots\n",
      "  ..@ listData       :List of 2\n",
      "  .. ..$ MA0098.1:Formal class 'PFMatrix' [package \"TFBSTools\"] with 7 slots\n",
      "  .. .. .. ..@ ID           : chr \"MA0098.1\"\n",
      "  .. .. .. ..@ name         : chr \"ETS1\"\n",
      "  .. .. .. ..@ matrixClass  : chr \"Tryptophan cluster factors\"\n",
      "  .. .. .. ..@ strand       : chr \"+\"\n",
      "  .. .. .. ..@ bg           : Named num [1:4] 0.25 0.25 0.25 0.25\n",
      "  .. .. .. .. ..- attr(*, \"names\")= chr [1:4] \"A\" \"C\" \"G\" \"T\"\n",
      "  .. .. .. ..@ tags         :List of 8\n",
      "  .. .. .. .. ..$ family       : chr \"Ets-related factors\"\n",
      "  .. .. .. .. ..$ medline      : chr \"1542566\"\n",
      "  .. .. .. .. ..$ tax_group    : chr \"vertebrates\"\n",
      "  .. .. .. .. ..$ tfbs_shape_id: chr \"1\"\n",
      "  .. .. .. .. ..$ type         : chr \"SELEX\"\n",
      "  .. .. .. .. ..$ collection   : chr \"CORE\"\n",
      "  .. .. .. .. ..$ species      : Named chr \"Homo sapiens\"\n",
      "  .. .. .. .. .. ..- attr(*, \"names\")= chr \"9606\"\n",
      "  .. .. .. .. ..$ acc          : chr \"P14921\"\n",
      "  .. .. .. ..@ profileMatrix: int [1:4, 1:6] 4 16 4 16 17 0 0 23 0 1 ...\n",
      "  .. .. .. .. ..- attr(*, \"dimnames\")=List of 2\n",
      "  .. .. .. .. .. ..$ : chr [1:4] \"A\" \"C\" \"G\" \"T\"\n",
      "  .. .. .. .. .. ..$ : NULL\n",
      "  .. ..$ MA0098.3:Formal class 'PFMatrix' [package \"TFBSTools\"] with 7 slots\n",
      "  .. .. .. ..@ ID           : chr \"MA0098.3\"\n",
      "  .. .. .. ..@ name         : chr \"ETS1\"\n",
      "  .. .. .. ..@ matrixClass  : chr \"Tryptophan cluster factors\"\n",
      "  .. .. .. ..@ strand       : chr \"+\"\n",
      "  .. .. .. ..@ bg           : Named num [1:4] 0.25 0.25 0.25 0.25\n",
      "  .. .. .. .. ..- attr(*, \"names\")= chr [1:4] \"A\" \"C\" \"G\" \"T\"\n",
      "  .. .. .. ..@ tags         :List of 11\n",
      "  .. .. .. .. ..$ comment      : chr \"Data is from Taipale HTSELEX DBD (2013)\"\n",
      "  .. .. .. .. ..$ family       : chr \"Ets-related factors\"\n",
      "  .. .. .. .. ..$ medline      : chr \"20517297\"\n",
      "  .. .. .. .. ..$ remap_tf_name: chr \"ETS1\"\n",
      "  .. .. .. .. ..$ source       : chr \"23332764\"\n",
      "  .. .. .. .. ..$ tax_group    : chr \"vertebrates\"\n",
      "  .. .. .. .. ..$ type         : chr \"HT-SELEX\"\n",
      "  .. .. .. .. ..$ unibind      : chr \"1\"\n",
      "  .. .. .. .. ..$ collection   : chr \"CORE\"\n",
      "  .. .. .. .. ..$ species      : Named chr \"Homo sapiens\"\n",
      "  .. .. .. .. .. ..- attr(*, \"names\")= chr \"9606\"\n",
      "  .. .. .. .. ..$ acc          : chr \"P14921\"\n",
      "  .. .. .. ..@ profileMatrix: int [1:4, 1:10] 2683 210 640 241 180 2683 297 22 425 2683 ...\n",
      "  .. .. .. .. ..- attr(*, \"dimnames\")=List of 2\n",
      "  .. .. .. .. .. ..$ : chr [1:4] \"A\" \"C\" \"G\" \"T\"\n",
      "  .. .. .. .. .. ..$ : NULL\n",
      "  ..@ elementType    : chr \"PFMatrix\"\n",
      "  ..@ elementMetadata: NULL\n",
      "  ..@ metadata       : list()\n"
     ]
    }
   ],
   "source": [
    "suppressMessages(library(JASPAR2020))\n",
    "opts <- list()\n",
    "opts[[\"species\"]] <- 9606\n",
    "opts[[\"name\"]] <- \"ETS1\"\n",
    "opts[[\"all_versions\"]] <- TRUE\n",
    "PFMatrixList <- getMatrixSet(JASPAR2020, opts)\n",
    "PFMatrixList\n",
    "str(PFMatrixList)"
   ]
  },
  {
   "cell_type": "code",
   "execution_count": 12,
   "metadata": {
    "ExecuteTime": {
     "end_time": "2023-08-23T11:40:50.558592Z",
     "start_time": "2023-08-23T11:39:15.036Z"
    }
   },
   "outputs": [],
   "source": [
    "pfmMA0098.3 <- PFMatrixList$MA0098.3"
   ]
  },
  {
   "cell_type": "code",
   "execution_count": 13,
   "metadata": {
    "ExecuteTime": {
     "end_time": "2023-08-23T11:40:50.786590Z",
     "start_time": "2023-08-23T11:39:15.039Z"
    }
   },
   "outputs": [
    {
     "data": {
      "text/plain": [
       "An object of class PWMatrix\n",
       "ID: MA0098.3\n",
       "Name: ETS1\n",
       "Matrix Class: Tryptophan cluster factors\n",
       "strand: +\n",
       "Pseudocounts: 0.8\n",
       "Tags: \n",
       "$comment\n",
       "[1] \"Data is from Taipale HTSELEX DBD (2013)\"\n",
       "\n",
       "$family\n",
       "[1] \"Ets-related factors\"\n",
       "\n",
       "$medline\n",
       "[1] \"20517297\"\n",
       "\n",
       "$remap_tf_name\n",
       "[1] \"ETS1\"\n",
       "\n",
       "$source\n",
       "[1] \"23332764\"\n",
       "\n",
       "$tax_group\n",
       "[1] \"vertebrates\"\n",
       "\n",
       "$type\n",
       "[1] \"HT-SELEX\"\n",
       "\n",
       "$unibind\n",
       "[1] \"1\"\n",
       "\n",
       "$collection\n",
       "[1] \"CORE\"\n",
       "\n",
       "$species\n",
       "          9606 \n",
       "\"Homo sapiens\" \n",
       "\n",
       "$acc\n",
       "[1] \"P14921\"\n",
       "\n",
       "Background: \n",
       "   A    C    G    T \n",
       "0.25 0.25 0.25 0.25 \n",
       "Matrix: \n",
       "        [,1]      [,2]        [,3]       [,4]       [,5]       [,6]\n",
       "A  1.5075544 -2.142626  -0.8733891 -11.723234 -11.718426   1.999677\n",
       "C -2.1665656  1.753658   1.7843520  -4.995314 -11.718426 -11.711990\n",
       "G -0.5598056 -1.420790  -6.7573900   1.988433   1.993241 -11.711990\n",
       "T -1.9680984 -5.163593 -11.9273150 -11.723234  -5.787689 -11.711990\n",
       "          [,7]       [,8]        [,9]      [,10]\n",
       "A  1.562872652  0.6990088 -3.02077444  0.2595540\n",
       "C -6.625232365 -5.0011692 -0.02360762 -0.7418837\n",
       "G -4.863392103  1.2187299 -2.54322489  0.6910225\n",
       "T  0.001587647 -5.7983523  1.44438012 -0.7599764"
      ]
     },
     "metadata": {},
     "output_type": "display_data"
    }
   ],
   "source": [
    "pwm <- toPWM(pfmMA0098.3, pseudocounts=0.8)\n",
    "pwm"
   ]
  },
  {
   "cell_type": "code",
   "execution_count": 14,
   "metadata": {
    "ExecuteTime": {
     "end_time": "2023-08-23T11:40:50.954123Z",
     "start_time": "2023-08-23T11:39:15.042Z"
    }
   },
   "outputs": [
    {
     "name": "stdout",
     "output_type": "stream",
     "text": [
      "75793-letter DNAString object\n",
      "seq: \u001b[47m\u001b[30mC\u001b[39m\u001b[49m\u001b[47m\u001b[30mT\u001b[39m\u001b[49m\u001b[47m\u001b[30mT\u001b[39m\u001b[49m\u001b[47m\u001b[30mG\u001b[39m\u001b[49m\u001b[47m\u001b[30mC\u001b[39m\u001b[49m\u001b[47m\u001b[30mT\u001b[39m\u001b[49m\u001b[47m\u001b[30mC\u001b[39m\u001b[49m\u001b[47m\u001b[30mT\u001b[39m\u001b[49m\u001b[47m\u001b[30mC\u001b[39m\u001b[49m\u001b[47m\u001b[30mT\u001b[39m\u001b[49m\u001b[47m\u001b[30mC\u001b[39m\u001b[49m\u001b[47m\u001b[30mT\u001b[39m\u001b[49m\u001b[47m\u001b[30mC\u001b[39m\u001b[49m\u001b[47m\u001b[30mG\u001b[39m\u001b[49m\u001b[47m\u001b[30mC\u001b[39m\u001b[49m\u001b[47m\u001b[30mC\u001b[39m\u001b[49m\u001b[47m\u001b[30mT\u001b[39m\u001b[49m\u001b[47m\u001b[30mG\u001b[39m\u001b[49m\u001b[47m\u001b[30mC\u001b[39m\u001b[49m\u001b[47m\u001b[30mT\u001b[39m\u001b[49m\u001b[47m\u001b[30mG\u001b[39m\u001b[49m\u001b[47m\u001b[30mC\u001b[39m\u001b[49m\u001b[47m\u001b[30mC\u001b[39m\u001b[49m\u001b[47m\u001b[30mA\u001b[39m\u001b[49m\u001b[47m\u001b[30mT\u001b[39m\u001b[49m\u001b[47m\u001b[30mG\u001b[39m\u001b[49m\u001b[47m\u001b[30mT\u001b[39m\u001b[49m\u001b[47m\u001b[30mA\u001b[39m\u001b[49m\u001b[47m\u001b[30mA\u001b[39m\u001b[49m\u001b[47m\u001b[30mG\u001b[39m\u001b[49m\u001b[47m\u001b[30mA\u001b[39m\u001b[49m\u001b[47m\u001b[30mC\u001b[39m\u001b[49m\u001b[47m\u001b[30mA\u001b[39m\u001b[49m\u001b[47m\u001b[30mC\u001b[39m\u001b[49m\u001b[47m\u001b[30mG\u001b[39m\u001b[49m\u001b[47m\u001b[30mC\u001b[39m\u001b[49m...\u001b[47m\u001b[30mG\u001b[39m\u001b[49m\u001b[47m\u001b[30mA\u001b[39m\u001b[49m\u001b[47m\u001b[30mA\u001b[39m\u001b[49m\u001b[47m\u001b[30mT\u001b[39m\u001b[49m\u001b[47m\u001b[30mT\u001b[39m\u001b[49m\u001b[47m\u001b[30mG\u001b[39m\u001b[49m\u001b[47m\u001b[30mA\u001b[39m\u001b[49m\u001b[47m\u001b[30mA\u001b[39m\u001b[49m\u001b[47m\u001b[30mA\u001b[39m\u001b[49m\u001b[47m\u001b[30mG\u001b[39m\u001b[49m\u001b[47m\u001b[30mG\u001b[39m\u001b[49m\u001b[47m\u001b[30mG\u001b[39m\u001b[49m\u001b[47m\u001b[30mA\u001b[39m\u001b[49m\u001b[47m\u001b[30mT\u001b[39m\u001b[49m\u001b[47m\u001b[30mG\u001b[39m\u001b[49m\u001b[47m\u001b[30mG\u001b[39m\u001b[49m\u001b[47m\u001b[30mC\u001b[39m\u001b[49m\u001b[47m\u001b[30mG\u001b[39m\u001b[49m\u001b[47m\u001b[30mG\u001b[39m\u001b[49m\u001b[47m\u001b[30mT\u001b[39m\u001b[49m\u001b[47m\u001b[30mC\u001b[39m\u001b[49m\u001b[47m\u001b[30mC\u001b[39m\u001b[49m\u001b[47m\u001b[30mC\u001b[39m\u001b[49m\u001b[47m\u001b[30mT\u001b[39m\u001b[49m\u001b[47m\u001b[30mC\u001b[39m\u001b[49m\u001b[47m\u001b[30mT\u001b[39m\u001b[49m\u001b[47m\u001b[30mT\u001b[39m\u001b[49m\u001b[47m\u001b[30mC\u001b[39m\u001b[49m\u001b[47m\u001b[30mC\u001b[39m\u001b[49m\u001b[47m\u001b[30mC\u001b[39m\u001b[49m\u001b[47m\u001b[30mA\u001b[39m\u001b[49m\u001b[47m\u001b[30mA\u001b[39m\u001b[49m\u001b[47m\u001b[30mC\u001b[39m\u001b[49m\u001b[47m\u001b[30mA\u001b[39m\u001b[49m\u001b[47m\u001b[30mT\u001b[39m\u001b[49m\u001b[47m\u001b[30mT\u001b[39m\u001b[49m\n"
     ]
    }
   ],
   "source": [
    "subject <- DNAString(FAS_sequence)\n",
    "print(subject)"
   ]
  },
  {
   "cell_type": "code",
   "execution_count": 15,
   "metadata": {
    "ExecuteTime": {
     "end_time": "2023-08-23T11:40:51.059036Z",
     "start_time": "2023-08-23T11:39:15.045Z"
    }
   },
   "outputs": [],
   "source": [
    "min_score <- 85"
   ]
  },
  {
   "cell_type": "code",
   "execution_count": 16,
   "metadata": {
    "ExecuteTime": {
     "end_time": "2023-08-23T11:40:51.310261Z",
     "start_time": "2023-08-23T11:39:15.048Z"
    }
   },
   "outputs": [],
   "source": [
    "siteset <- searchSeq(pwm\n",
    "                     , subject\n",
    "                     , seqname=\"FAS_full_sequence\"\n",
    "                     , min.score= paste0(min_score,\"%\")\n",
    "                     , strand=\"*\")\n"
   ]
  },
  {
   "cell_type": "code",
   "execution_count": 17,
   "metadata": {
    "ExecuteTime": {
     "end_time": "2023-08-23T11:40:52.292282Z",
     "start_time": "2023-08-23T11:39:15.051Z"
    }
   },
   "outputs": [
    {
     "name": "stdout",
     "output_type": "stream",
     "text": [
      "              seqname source feature start   end    score strand frame\n",
      "73  FAS_full_sequence   TFBS    TFBS 36230 36239 12.85471      +     .\n",
      "215 FAS_full_sequence   TFBS    TFBS 67847 67856 12.76646      -     .\n",
      "43  FAS_full_sequence   TFBS    TFBS 29539 29548 12.52331      +     .\n",
      "202 FAS_full_sequence   TFBS    TFBS 58655 58664 12.31528      -     .\n",
      "197 FAS_full_sequence   TFBS    TFBS 55343 55352 11.83518      -     .\n",
      "75  FAS_full_sequence   TFBS    TFBS 37429 37438 11.33657      +     .\n",
      "                                                      attributes    TFMPvalue\n",
      "73  TF=ETS1;class=Tryptophan cluster factors;sequence=ACAGGAAGTA 2.479553e-05\n",
      "215 TF=ETS1;class=Tryptophan cluster factors;sequence=ACAGGAAATG 2.670288e-05\n",
      "43  TF=ETS1;class=Tryptophan cluster factors;sequence=ACCGGAAACC 2.765656e-05\n",
      "202 TF=ETS1;class=Tryptophan cluster factors;sequence=GCCGGATGTG 3.910065e-05\n",
      "197 TF=ETS1;class=Tryptophan cluster factors;sequence=ACAGGAAGTT 5.340576e-05\n",
      "75  TF=ETS1;class=Tryptophan cluster factors;sequence=AGCGGAAGTC 6.961823e-05\n",
      "    start_true_coordinate end_true_coordinate\n",
      "73               88990043            88990052\n",
      "215              89021660            89021669\n",
      "43               88983352            88983361\n",
      "202              89012468            89012477\n",
      "197              89009156            89009165\n",
      "75               88991242            88991251\n",
      "'data.frame':\t222 obs. of  12 variables:\n",
      " $ seqname              : chr  \"FAS_full_sequence\" \"FAS_full_sequence\" \"FAS_full_sequence\" \"FAS_full_sequence\" ...\n",
      " $ source               : chr  \"TFBS\" \"TFBS\" \"TFBS\" \"TFBS\" ...\n",
      " $ feature              : chr  \"TFBS\" \"TFBS\" \"TFBS\" \"TFBS\" ...\n",
      " $ start                : int  36230 67847 29539 58655 55343 37429 51434 53194 52935 44596 ...\n",
      " $ end                  : int  36239 67856 29548 58664 55352 37438 51443 53203 52944 44605 ...\n",
      " $ score                : num  12.9 12.8 12.5 12.3 11.8 ...\n",
      " $ strand               : chr  \"+\" \"-\" \"+\" \"-\" ...\n",
      " $ frame                : chr  \".\" \".\" \".\" \".\" ...\n",
      " $ attributes           : chr  \"TF=ETS1;class=Tryptophan cluster factors;sequence=ACAGGAAGTA\" \"TF=ETS1;class=Tryptophan cluster factors;sequence=ACAGGAAATG\" \"TF=ETS1;class=Tryptophan cluster factors;sequence=ACCGGAAACC\" \"TF=ETS1;class=Tryptophan cluster factors;sequence=GCCGGATGTG\" ...\n",
      " $ TFMPvalue            : num  2.48e-05 2.67e-05 2.77e-05 3.91e-05 5.34e-05 ...\n",
      " $ start_true_coordinate: num  8.9e+07 8.9e+07 8.9e+07 8.9e+07 8.9e+07 ...\n",
      " $ end_true_coordinate  : num  8.9e+07 8.9e+07 8.9e+07 8.9e+07 8.9e+07 ...\n",
      "NULL\n"
     ]
    }
   ],
   "source": [
    "# put in one table\n",
    "FAS_GFF3 <- writeGFF3(siteset)\n",
    "FAS_GFF3$TFMPvalue <- pvalues(siteset, type=\"TFMPvalue\")\n",
    "FAS_GFF3$start_true_coordinate <- FAS_GFF3$start + FAS_start\n",
    "FAS_GFF3$end_true_coordinate <- FAS_GFF3$end + FAS_start\n",
    "# sort by increasing pvalues\n",
    "FAS_GFF3 <- FAS_GFF3[order(FAS_GFF3$TFMPvalue,decreasing = FALSE),]\n",
    "print(head(FAS_GFF3))\n",
    "print(str(FAS_GFF3))"
   ]
  },
  {
   "cell_type": "code",
   "execution_count": 18,
   "metadata": {
    "ExecuteTime": {
     "end_time": "2023-08-23T11:40:52.385159Z",
     "start_time": "2023-08-23T11:39:15.056Z"
    }
   },
   "outputs": [
    {
     "name": "stdout",
     "output_type": "stream",
     "text": [
      "'data.frame':\t222 obs. of  13 variables:\n",
      " $ seqname              : chr  \"FAS_full_sequence\" \"FAS_full_sequence\" \"FAS_full_sequence\" \"FAS_full_sequence\" ...\n",
      " $ source               : chr  \"TFBS\" \"TFBS\" \"TFBS\" \"TFBS\" ...\n",
      " $ feature              : chr  \"TFBS\" \"TFBS\" \"TFBS\" \"TFBS\" ...\n",
      " $ start                : int  36230 67847 29539 58655 55343 37429 51434 53194 52935 44596 ...\n",
      " $ end                  : int  36239 67856 29548 58664 55352 37438 51443 53203 52944 44605 ...\n",
      " $ score                : num  12.9 12.8 12.5 12.3 11.8 ...\n",
      " $ strand               : chr  \"+\" \"-\" \"+\" \"-\" ...\n",
      " $ frame                : chr  \".\" \".\" \".\" \".\" ...\n",
      " $ attributes           : chr  \"TF=ETS1;class=Tryptophan cluster factors;sequence=ACAGGAAGTA\" \"TF=ETS1;class=Tryptophan cluster factors;sequence=ACAGGAAATG\" \"TF=ETS1;class=Tryptophan cluster factors;sequence=ACCGGAAACC\" \"TF=ETS1;class=Tryptophan cluster factors;sequence=GCCGGATGTG\" ...\n",
      " $ TFMPvalue            : num  2.48e-05 2.67e-05 2.77e-05 3.91e-05 5.34e-05 ...\n",
      " $ start_true_coordinate: num  8.9e+07 8.9e+07 8.9e+07 8.9e+07 8.9e+07 ...\n",
      " $ end_true_coordinate  : num  8.9e+07 8.9e+07 8.9e+07 8.9e+07 8.9e+07 ...\n",
      " $ padj                 : num  0.00161 0.00161 0.00161 0.00161 0.00161 ...\n",
      "NULL\n"
     ]
    }
   ],
   "source": [
    "FAS_GFF3$padj <- p.adjust(FAS_GFF3$TFMPvalue,method = \"fdr\")\n",
    "print(str(FAS_GFF3))"
   ]
  },
  {
   "cell_type": "markdown",
   "metadata": {},
   "source": [
    "# Convert to .bed"
   ]
  },
  {
   "cell_type": "markdown",
   "metadata": {},
   "source": [
    "BED format description can be found here: https://genome.ucsc.edu/FAQ/FAQformat.html#format1"
   ]
  },
  {
   "cell_type": "code",
   "execution_count": 19,
   "metadata": {
    "ExecuteTime": {
     "end_time": "2023-08-23T11:40:52.541352Z",
     "start_time": "2023-08-23T11:39:15.059Z"
    }
   },
   "outputs": [
    {
     "name": "stdout",
     "output_type": "stream",
     "text": [
      "'data.frame':\t222 obs. of  13 variables:\n",
      " $ seqname              : chr  \"FAS_full_sequence\" \"FAS_full_sequence\" \"FAS_full_sequence\" \"FAS_full_sequence\" ...\n",
      " $ source               : chr  \"TFBS\" \"TFBS\" \"TFBS\" \"TFBS\" ...\n",
      " $ feature              : chr  \"TFBS\" \"TFBS\" \"TFBS\" \"TFBS\" ...\n",
      " $ start                : int  36230 67847 29539 58655 55343 37429 51434 53194 52935 44596 ...\n",
      " $ end                  : int  36239 67856 29548 58664 55352 37438 51443 53203 52944 44605 ...\n",
      " $ score                : num  12.9 12.8 12.5 12.3 11.8 ...\n",
      " $ strand               : chr  \"+\" \"-\" \"+\" \"-\" ...\n",
      " $ frame                : chr  \".\" \".\" \".\" \".\" ...\n",
      " $ attributes           : chr  \"TF=ETS1;class=Tryptophan cluster factors;sequence=ACAGGAAGTA\" \"TF=ETS1;class=Tryptophan cluster factors;sequence=ACAGGAAATG\" \"TF=ETS1;class=Tryptophan cluster factors;sequence=ACCGGAAACC\" \"TF=ETS1;class=Tryptophan cluster factors;sequence=GCCGGATGTG\" ...\n",
      " $ TFMPvalue            : num  2.48e-05 2.67e-05 2.77e-05 3.91e-05 5.34e-05 ...\n",
      " $ start_true_coordinate: num  8.9e+07 8.9e+07 8.9e+07 8.9e+07 8.9e+07 ...\n",
      " $ end_true_coordinate  : num  8.9e+07 8.9e+07 8.9e+07 8.9e+07 8.9e+07 ...\n",
      " $ padj                 : num  0.00161 0.00161 0.00161 0.00161 0.00161 ...\n"
     ]
    }
   ],
   "source": [
    "bed <- FAS_GFF3[FAS_GFF3$padj < 0.05,]\n",
    "str(bed)"
   ]
  },
  {
   "cell_type": "code",
   "execution_count": 20,
   "metadata": {
    "ExecuteTime": {
     "end_time": "2023-08-23T11:40:52.605398Z",
     "start_time": "2023-08-23T11:39:15.062Z"
    }
   },
   "outputs": [],
   "source": [
    "bed$chrom = 10"
   ]
  },
  {
   "cell_type": "code",
   "execution_count": 21,
   "metadata": {
    "ExecuteTime": {
     "end_time": "2023-08-23T11:40:52.640840Z",
     "start_time": "2023-08-23T11:39:15.064Z"
    }
   },
   "outputs": [],
   "source": [
    "bed$chromStart <- bed$start_true_coordinate"
   ]
  },
  {
   "cell_type": "code",
   "execution_count": 22,
   "metadata": {
    "ExecuteTime": {
     "end_time": "2023-08-23T11:40:52.678163Z",
     "start_time": "2023-08-23T11:39:15.067Z"
    }
   },
   "outputs": [],
   "source": [
    "bed$chromEnd <- bed$end_true_coordinate"
   ]
  },
  {
   "cell_type": "code",
   "execution_count": 23,
   "metadata": {
    "ExecuteTime": {
     "end_time": "2023-08-23T11:40:52.727340Z",
     "start_time": "2023-08-23T11:39:15.070Z"
    }
   },
   "outputs": [],
   "source": [
    "bed <- bed[,c(\"chrom\"\n",
    "             ,\"chromStart\"\n",
    "             ,\"chromEnd\"\n",
    "             )]"
   ]
  },
  {
   "cell_type": "code",
   "execution_count": 24,
   "metadata": {
    "ExecuteTime": {
     "end_time": "2023-08-23T11:40:52.779980Z",
     "start_time": "2023-08-23T11:39:15.073Z"
    }
   },
   "outputs": [
    {
     "name": "stdout",
     "output_type": "stream",
     "text": [
      "'data.frame':\t222 obs. of  3 variables:\n",
      " $ chrom     : num  10 10 10 10 10 10 10 10 10 10 ...\n",
      " $ chromStart: num  8.9e+07 8.9e+07 8.9e+07 8.9e+07 8.9e+07 ...\n",
      " $ chromEnd  : num  8.9e+07 8.9e+07 8.9e+07 8.9e+07 8.9e+07 ...\n",
      "NULL\n"
     ]
    }
   ],
   "source": [
    "print(str(bed))"
   ]
  },
  {
   "cell_type": "markdown",
   "metadata": {},
   "source": [
    "# Export"
   ]
  },
  {
   "cell_type": "code",
   "execution_count": 25,
   "metadata": {
    "ExecuteTime": {
     "end_time": "2023-08-23T11:40:52.829392Z",
     "start_time": "2023-08-23T11:39:15.076Z"
    }
   },
   "outputs": [],
   "source": [
    "write.table(bed\n",
    "           ,\"ETS1_binding_sites.bed\"\n",
    "           ,sep = \"\\t\"\n",
    "           ,row.names = FALSE\n",
    "           ,col.names = FALSE\n",
    "           ,quote = FALSE)"
   ]
  },
  {
   "cell_type": "markdown",
   "metadata": {},
   "source": [
    "For UCSC browser add manually the following three lines:"
   ]
  },
  {
   "cell_type": "markdown",
   "metadata": {},
   "source": [
    "browser position chr10: 88975070-89017059"
   ]
  },
  {
   "cell_type": "markdown",
   "metadata": {},
   "source": [
    "track name=ETS1_binding_sites description=\" \" visibility=2"
   ]
  },
  {
   "cell_type": "markdown",
   "metadata": {},
   "source": [
    "#chrom chromStart chromEnd"
   ]
  }
 ],
 "metadata": {
  "kernelspec": {
   "display_name": "R",
   "language": "R",
   "name": "ir"
  },
  "language_info": {
   "codemirror_mode": "r",
   "file_extension": ".r",
   "mimetype": "text/x-r-source",
   "name": "R",
   "pygments_lexer": "r",
   "version": "4.2.2"
  },
  "toc": {
   "base_numbering": 1,
   "nav_menu": {},
   "number_sections": true,
   "sideBar": true,
   "skip_h1_title": false,
   "title_cell": "Table of Contents",
   "title_sidebar": "Contents",
   "toc_cell": false,
   "toc_position": {},
   "toc_section_display": true,
   "toc_window_display": false
  }
 },
 "nbformat": 4,
 "nbformat_minor": 4
}
