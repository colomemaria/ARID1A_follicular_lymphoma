{
 "cells": [
  {
   "cell_type": "markdown",
   "metadata": {},
   "source": [
    "# Load data"
   ]
  },
  {
   "cell_type": "code",
   "execution_count": 1,
   "metadata": {
    "ExecuteTime": {
     "end_time": "2023-08-23T10:54:51.127386Z",
     "start_time": "2023-08-23T10:54:46.523Z"
    }
   },
   "outputs": [
    {
     "name": "stdout",
     "output_type": "stream",
     "text": [
      "'data.frame':\t108335 obs. of  46 variables:\n",
      " $ cell_line           : chr  \"OCI-Ly1\" \"OCI-Ly1\" \"OCI-Ly1\" \"OCI-Ly1\" ...\n",
      " $ peakID              : chr  \"1_181400_181555\" \"1_629896_629990\" \"1_804858_805040\" \"1_827273_827761\" ...\n",
      " $ Chr                 : chr  \"1\" \"1\" \"1\" \"1\" ...\n",
      " $ Start               : int  181400 629896 804858 827273 865730 869766 915579 919766 920550 921144 ...\n",
      " $ End                 : int  181555 629990 805040 827761 865924 870035 915747 919853 920834 921348 ...\n",
      " $ mean_count          : num  21.2 1844.8 23 90.5 27.8 ...\n",
      " $ threshold_mean_count: int  20 20 20 20 20 20 20 20 20 20 ...\n",
      " $ filter_mean_count   : logi  TRUE TRUE TRUE TRUE TRUE TRUE ...\n",
      " $ threshold_count     : int  20 20 20 20 20 20 20 20 20 20 ...\n",
      " $ filter_count        : logi  TRUE TRUE TRUE TRUE TRUE TRUE ...\n",
      " $ annoPackage         : chr  \"ChIPseeker.v1.8.6\" \"ChIPseeker.v1.8.6\" \"ChIPseeker.v1.8.6\" \"ChIPseeker.v1.8.6\" ...\n",
      " $ TxDb                : chr  \"TxDb.Hsapiens.UCSC.hg38.knownGene\" \"TxDb.Hsapiens.UCSC.hg38.knownGene\" \"TxDb.Hsapiens.UCSC.hg38.knownGene\" \"TxDb.Hsapiens.UCSC.hg38.knownGene\" ...\n",
      " $ tssRegion           : chr  \"-5000, 5000\" \"-5000, 5000\" \"-5000, 5000\" \"-5000, 5000\" ...\n",
      " $ level               : chr  \"transcript\" \"transcript\" \"transcript\" \"transcript\" ...\n",
      " $ genic               : logi  FALSE TRUE TRUE TRUE TRUE TRUE ...\n",
      " $ Intergenic          : logi  TRUE FALSE FALSE FALSE FALSE FALSE ...\n",
      " $ Promoter            : logi  TRUE TRUE TRUE TRUE TRUE TRUE ...\n",
      " $ fiveUTR             : logi  FALSE FALSE FALSE FALSE FALSE FALSE ...\n",
      " $ threeUTR            : logi  FALSE FALSE FALSE FALSE FALSE FALSE ...\n",
      " $ Exon                : logi  FALSE TRUE TRUE TRUE TRUE FALSE ...\n",
      " $ Intron              : logi  FALSE TRUE TRUE TRUE TRUE TRUE ...\n",
      " $ downstream          : logi  FALSE FALSE TRUE FALSE FALSE FALSE ...\n",
      " $ distal_intergenic   : logi  FALSE FALSE FALSE FALSE FALSE FALSE ...\n",
      " $ annotation          : chr  \"Promoter (1-2kb)\" \"Promoter (1-2kb)\" \"Promoter (<=1kb)\" \"Promoter (<=1kb)\" ...\n",
      " $ geneChr             : int  1 1 1 1 1 1 1 1 1 1 ...\n",
      " $ geneStart           : int  182696 627377 803934 827598 868240 868240 917370 916870 916870 916870 ...\n",
      " $ geneEnd             : int  184174 631150 807435 859446 870201 870201 918534 919692 919692 919692 ...\n",
      " $ geneLength          : int  1479 3774 3502 31849 1962 1962 1165 2823 2823 2823 ...\n",
      " $ geneStrand          : int  1 2 1 1 2 2 2 2 2 2 ...\n",
      " $ geneId              : int  102725121 101928626 105378580 643837 284593 284593 100130417 100130417 100130417 100130417 ...\n",
      " $ transcriptId        : chr  \"ENST00000624431.2\" \"ENST00000452176.2\" \"ENST00000667728.1\" \"ENST00000445118.7\" ...\n",
      " $ distanceToTSS       : int  -1141 1160 924 0 4277 166 2787 -74 -858 -1452 ...\n",
      " $ ENSEMBL             : chr  \"ENSG00000223972\" \"ENSG00000230021\" \"ENSG00000237491\" \"ENSG00000228794\" ...\n",
      " $ SYMBOL              : chr  \"DDX11L17\" \"LOC101928626\" \"LINC01409\" \"LINC01128\" ...\n",
      " $ GENENAME            : chr  \"DEAD/H-box helicase 11 like 17 (pseudogene)\" \"uncharacterized LOC101928626\" \"long intergenic non-protein coding RNA 1409\" \"long intergenic non-protein coding RNA 1128\" ...\n",
      " $ baseMean            : num  22.9 1793.7 20.3 81.2 24.8 ...\n",
      " $ log2FoldChange      : num  -1.235 0.311 0.43 0.054 -0.695 ...\n",
      " $ lfcSE               : num  0.541 0.188 0.42 0.234 0.436 ...\n",
      " $ stat                : num  -0.434 0 0 0 0 ...\n",
      " $ pvalue              : num  0.664 1 1 1 1 ...\n",
      " $ padj                : num  1 1 1 1 1 1 1 1 1 1 ...\n",
      " $ threshold_padj      : num  0.1 0.1 0.1 0.1 0.1 0.1 0.1 0.1 0.1 0.1 ...\n",
      " $ threshold_lfc       : int  1 1 1 1 1 1 1 1 1 1 ...\n",
      " $ is_diff             : logi  FALSE FALSE FALSE FALSE FALSE FALSE ...\n",
      " $ is_up_in_mut        : logi  FALSE FALSE FALSE FALSE FALSE FALSE ...\n",
      " $ is_down_in_mut      : logi  FALSE FALSE FALSE FALSE FALSE FALSE ...\n",
      "NULL\n"
     ]
    }
   ],
   "source": [
    "all_peaks <- read.csv(\"TableS1_diffPeaks_onPromoters.txt\"\n",
    "                     ,sep = \"\\t\"\n",
    "                     ,header = TRUE)\n",
    "print(str(all_peaks))"
   ]
  },
  {
   "cell_type": "code",
   "execution_count": 4,
   "metadata": {
    "ExecuteTime": {
     "end_time": "2023-08-23T10:56:31.700732Z",
     "start_time": "2023-08-23T10:56:31.567Z"
    }
   },
   "outputs": [
    {
     "name": "stdout",
     "output_type": "stream",
     "text": [
      "'data.frame':\t5 obs. of  46 variables:\n",
      " $ cell_line           : chr  \"OCI-Ly1\" \"OCI-Ly1\" \"OCI-Ly1\" \"OCI-Ly1\" ...\n",
      " $ peakID              : chr  \"10_88987113_88987194\" \"10_88990451_88990877\" \"10_88991303_88991478\" \"10_88991699_88992075\" ...\n",
      " $ Chr                 : chr  \"10\" \"10\" \"10\" \"10\" ...\n",
      " $ Start               : int  88987113 88990451 88991303 88991699 89003524\n",
      " $ End                 : int  88987194 88990877 88991478 88992075 89003668\n",
      " $ mean_count          : num  13.1 81.6 51.1 57.8 24.4\n",
      " $ threshold_mean_count: int  20 20 20 20 20\n",
      " $ filter_mean_count   : logi  FALSE TRUE TRUE TRUE TRUE\n",
      " $ threshold_count     : int  20 20 20 20 20\n",
      " $ filter_count        : logi  TRUE TRUE TRUE TRUE TRUE\n",
      " $ annoPackage         : chr  \"ChIPseeker.v1.8.6\" \"ChIPseeker.v1.8.6\" \"ChIPseeker.v1.8.6\" \"ChIPseeker.v1.8.6\" ...\n",
      " $ TxDb                : chr  \"TxDb.Hsapiens.UCSC.hg38.knownGene\" \"TxDb.Hsapiens.UCSC.hg38.knownGene\" \"TxDb.Hsapiens.UCSC.hg38.knownGene\" \"TxDb.Hsapiens.UCSC.hg38.knownGene\" ...\n",
      " $ tssRegion           : chr  \"-5000, 5000\" \"-5000, 5000\" \"-5000, 5000\" \"-5000, 5000\" ...\n",
      " $ level               : chr  \"transcript\" \"transcript\" \"transcript\" \"transcript\" ...\n",
      " $ genic               : logi  TRUE TRUE TRUE TRUE TRUE\n",
      " $ Intergenic          : logi  FALSE FALSE FALSE FALSE FALSE\n",
      " $ Promoter            : logi  TRUE TRUE TRUE TRUE TRUE\n",
      " $ fiveUTR             : logi  FALSE TRUE TRUE FALSE FALSE\n",
      " $ threeUTR            : logi  FALSE FALSE FALSE FALSE FALSE\n",
      " $ Exon                : logi  FALSE TRUE TRUE TRUE FALSE\n",
      " $ Intron              : logi  TRUE TRUE TRUE TRUE TRUE\n",
      " $ downstream          : logi  FALSE FALSE FALSE FALSE FALSE\n",
      " $ distal_intergenic   : logi  FALSE FALSE FALSE FALSE FALSE\n",
      " $ annotation          : chr  \"Promoter (<=1kb)\" \"Promoter (<=1kb)\" \"Promoter (<=1kb)\" \"Promoter (<=1kb)\" ...\n",
      " $ geneChr             : int  10 10 10 10 10\n",
      " $ geneStart           : int  88986740 88990559 88991387 88991448 89002781\n",
      " $ geneEnd             : int  89029605 89017059 89015088 89012222 89015542\n",
      " $ geneLength          : int  42866 26501 23702 20775 12762\n",
      " $ geneStrand          : int  1 1 1 1 1\n",
      " $ geneId              : int  355 355 355 355 355\n",
      " $ transcriptId        : chr  \"ENST00000690268.1\" \"ENST00000357339.7\" \"ENST00000371857.8\" \"ENST00000487314.1\" ...\n",
      " $ distanceToTSS       : int  373 0 0 251 743\n",
      " $ ENSEMBL             : chr  \"ENSG00000026103\" \"ENSG00000026103\" \"ENSG00000026103\" \"ENSG00000026103\" ...\n",
      " $ SYMBOL              : chr  \"FAS\" \"FAS\" \"FAS\" \"FAS\" ...\n",
      " $ GENENAME            : chr  \"Fas cell surface death receptor\" \"Fas cell surface death receptor\" \"Fas cell surface death receptor\" \"Fas cell surface death receptor\" ...\n",
      " $ baseMean            : num  12.2 74.9 45.6 51.6 24.8\n",
      " $ log2FoldChange      : num  0.132 -0.466 0.22 -0.624 0.925\n",
      " $ lfcSE               : num  0.503 0.265 0.287 0.277 0.481\n",
      " $ stat                : num  0 0 0 0 0\n",
      " $ pvalue              : num  1 1 1 1 1\n",
      " $ padj                : num  1 1 1 1 1\n",
      " $ threshold_padj      : num  0.1 0.1 0.1 0.1 0.1\n",
      " $ threshold_lfc       : int  1 1 1 1 1\n",
      " $ is_diff             : logi  FALSE FALSE FALSE FALSE FALSE\n",
      " $ is_up_in_mut        : logi  FALSE FALSE FALSE FALSE FALSE\n",
      " $ is_down_in_mut      : logi  FALSE FALSE FALSE FALSE FALSE\n",
      "NULL\n"
     ]
    }
   ],
   "source": [
    "# only FAS peaks\n",
    "idx_FAS <- all_peaks$SYMBOL == \"FAS\"\n",
    "FAS_peaks <- all_peaks[idx_FAS,]\n",
    "FAS_peaks <- FAS_peaks[!duplicated(FAS_peaks$peakID),]\n",
    "print(str(FAS_peaks))"
   ]
  },
  {
   "cell_type": "code",
   "execution_count": 5,
   "metadata": {
    "ExecuteTime": {
     "end_time": "2023-08-23T10:58:27.370084Z",
     "start_time": "2023-08-23T10:58:27.299Z"
    }
   },
   "outputs": [
    {
     "name": "stdout",
     "output_type": "stream",
     "text": [
      "'data.frame':\t4 obs. of  46 variables:\n",
      " $ cell_line           : chr  \"OCI-Ly1\" \"OCI-Ly1\" \"OCI-Ly1\" \"OCI-Ly8\"\n",
      " $ peakID              : chr  \"10_88990451_88990877\" \"10_88991303_88991478\" \"10_88991699_88992075\" \"10_89003524_89003668\"\n",
      " $ Chr                 : chr  \"10\" \"10\" \"10\" \"10\"\n",
      " $ Start               : int  88990451 88991303 88991699 89003524\n",
      " $ End                 : int  88990877 88991478 88992075 89003668\n",
      " $ mean_count          : num  81.6 51.1 57.8 24.4\n",
      " $ threshold_mean_count: int  20 20 20 20\n",
      " $ filter_mean_count   : logi  TRUE TRUE TRUE TRUE\n",
      " $ threshold_count     : int  20 20 20 20\n",
      " $ filter_count        : logi  TRUE TRUE TRUE TRUE\n",
      " $ annoPackage         : chr  \"ChIPseeker.v1.8.6\" \"ChIPseeker.v1.8.6\" \"ChIPseeker.v1.8.6\" \"ChIPseeker.v1.8.6\"\n",
      " $ TxDb                : chr  \"TxDb.Hsapiens.UCSC.hg38.knownGene\" \"TxDb.Hsapiens.UCSC.hg38.knownGene\" \"TxDb.Hsapiens.UCSC.hg38.knownGene\" \"TxDb.Hsapiens.UCSC.hg38.knownGene\"\n",
      " $ tssRegion           : chr  \"-5000, 5000\" \"-5000, 5000\" \"-5000, 5000\" \"-5000, 5000\"\n",
      " $ level               : chr  \"transcript\" \"transcript\" \"transcript\" \"transcript\"\n",
      " $ genic               : logi  TRUE TRUE TRUE TRUE\n",
      " $ Intergenic          : logi  FALSE FALSE FALSE FALSE\n",
      " $ Promoter            : logi  TRUE TRUE TRUE TRUE\n",
      " $ fiveUTR             : logi  TRUE TRUE FALSE FALSE\n",
      " $ threeUTR            : logi  FALSE FALSE FALSE FALSE\n",
      " $ Exon                : logi  TRUE TRUE TRUE FALSE\n",
      " $ Intron              : logi  TRUE TRUE TRUE TRUE\n",
      " $ downstream          : logi  FALSE FALSE FALSE FALSE\n",
      " $ distal_intergenic   : logi  FALSE FALSE FALSE FALSE\n",
      " $ annotation          : chr  \"Promoter (<=1kb)\" \"Promoter (<=1kb)\" \"Promoter (<=1kb)\" \"Promoter (<=1kb)\"\n",
      " $ geneChr             : int  10 10 10 10\n",
      " $ geneStart           : int  88990559 88991387 88991448 89002781\n",
      " $ geneEnd             : int  89017059 89015088 89012222 89015542\n",
      " $ geneLength          : int  26501 23702 20775 12762\n",
      " $ geneStrand          : int  1 1 1 1\n",
      " $ geneId              : int  355 355 355 355\n",
      " $ transcriptId        : chr  \"ENST00000357339.7\" \"ENST00000371857.8\" \"ENST00000487314.1\" \"ENST00000640140.2\"\n",
      " $ distanceToTSS       : int  0 0 251 743\n",
      " $ ENSEMBL             : chr  \"ENSG00000026103\" \"ENSG00000026103\" \"ENSG00000026103\" \"ENSG00000026103\"\n",
      " $ SYMBOL              : chr  \"FAS\" \"FAS\" \"FAS\" \"FAS\"\n",
      " $ GENENAME            : chr  \"Fas cell surface death receptor\" \"Fas cell surface death receptor\" \"Fas cell surface death receptor\" \"Fas cell surface death receptor\"\n",
      " $ baseMean            : num  74.9 45.6 51.6 24.8\n",
      " $ log2FoldChange      : num  -0.466 0.22 -0.624 0.925\n",
      " $ lfcSE               : num  0.265 0.287 0.277 0.481\n",
      " $ stat                : num  0 0 0 0\n",
      " $ pvalue              : num  1 1 1 1\n",
      " $ padj                : num  1 1 1 1\n",
      " $ threshold_padj      : num  0.1 0.1 0.1 0.1\n",
      " $ threshold_lfc       : int  1 1 1 1\n",
      " $ is_diff             : logi  FALSE FALSE FALSE FALSE\n",
      " $ is_up_in_mut        : logi  FALSE FALSE FALSE FALSE\n",
      " $ is_down_in_mut      : logi  FALSE FALSE FALSE FALSE\n",
      "NULL\n"
     ]
    }
   ],
   "source": [
    "# only within range 88975070-89017059\n",
    "idx_range <- (FAS_peaks$geneStart >= 88975070) & (FAS_peaks$geneEnd <= 89017059)\n",
    "FAS_peaks_in_range <- FAS_peaks[idx_range,]\n",
    "print(str(FAS_peaks_in_range))"
   ]
  },
  {
   "cell_type": "code",
   "execution_count": 13,
   "metadata": {
    "ExecuteTime": {
     "end_time": "2023-08-23T11:03:24.075731Z",
     "start_time": "2023-08-23T11:03:24.040Z"
    }
   },
   "outputs": [
    {
     "name": "stdout",
     "output_type": "stream",
     "text": [
      "     [,1]    [,2]       [,3]      \n",
      "[1,] \"chr10\" \"88990559\" \"89017059\"\n",
      "[2,] \"chr10\" \"88991387\" \"89015088\"\n",
      "[3,] \"chr10\" \"88991448\" \"89012222\"\n",
      "[4,] \"chr10\" \"89002781\" \"89015542\"\n"
     ]
    }
   ],
   "source": [
    "FAS_bed <- t(cbind(sapply(1:nrow(FAS_peaks_in_range)\n",
    "                       ,function(i){\n",
    "                           c(paste0(\"chr\",FAS_peaks_in_range[i,\"geneChr\"])\n",
    "                             ,FAS_peaks_in_range[i,\"geneStart\"]\n",
    "                             ,FAS_peaks_in_range[i,\"geneEnd\"])\n",
    "                       })\n",
    "                ))\n",
    "print(FAS_bed)"
   ]
  },
  {
   "cell_type": "markdown",
   "metadata": {},
   "source": [
    "# Export"
   ]
  },
  {
   "cell_type": "code",
   "execution_count": 15,
   "metadata": {
    "ExecuteTime": {
     "end_time": "2023-08-23T11:05:17.573942Z",
     "start_time": "2023-08-23T11:05:17.551Z"
    }
   },
   "outputs": [],
   "source": [
    "write.table(FAS_bed\n",
    "            ,file = \"FAS_open_peaks.bed\"\n",
    "            ,sep = \"\\t\"\n",
    "            ,row.names = FALSE\n",
    "            ,col.names = FALSE\n",
    "            ,quote = FALSE)"
   ]
  },
  {
   "cell_type": "markdown",
   "metadata": {},
   "source": [
    "For UCSC browser add manually the following three lines:"
   ]
  },
  {
   "cell_type": "markdown",
   "metadata": {},
   "source": [
    "browser position chr10:88975070-89017059"
   ]
  },
  {
   "cell_type": "markdown",
   "metadata": {},
   "source": [
    "track name=FAS_open_peaks description=\" \" visibility=2 color=0,0,255"
   ]
  },
  {
   "cell_type": "markdown",
   "metadata": {},
   "source": [
    "#chrom chromStart chromEnd"
   ]
  },
  {
   "cell_type": "code",
   "execution_count": null,
   "metadata": {},
   "outputs": [],
   "source": []
  }
 ],
 "metadata": {
  "kernelspec": {
   "display_name": "R",
   "language": "R",
   "name": "ir"
  },
  "language_info": {
   "codemirror_mode": "r",
   "file_extension": ".r",
   "mimetype": "text/x-r-source",
   "name": "R",
   "pygments_lexer": "r",
   "version": "4.2.2"
  },
  "toc": {
   "base_numbering": 1,
   "nav_menu": {},
   "number_sections": true,
   "sideBar": true,
   "skip_h1_title": false,
   "title_cell": "Table of Contents",
   "title_sidebar": "Contents",
   "toc_cell": false,
   "toc_position": {},
   "toc_section_display": true,
   "toc_window_display": false
  }
 },
 "nbformat": 4,
 "nbformat_minor": 4
}
