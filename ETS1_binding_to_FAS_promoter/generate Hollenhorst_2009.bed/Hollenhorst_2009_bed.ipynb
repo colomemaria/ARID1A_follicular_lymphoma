{
 "cells": [
  {
   "cell_type": "markdown",
   "metadata": {},
   "source": [
    "# Load data"
   ]
  },
  {
   "cell_type": "markdown",
   "metadata": {},
   "source": [
    "Methods section \"CHIPseq analysis\" https://journals.plos.org/plosgenetics/article?id=10.1371/journal.pgen.1000778\n",
    "\n",
    "\n",
    "Significance was determined by calculating a binomial P value for each 250 bp window and controlled for multiple testing by calculating an empirical false discovery rate. The “Best Window” in each enriched region with an empirical false discovery rate of <0.01 were called as “bound regions” and had a median size of 250 bp.\n",
    "\n",
    "The ChIP-seq datasets and peak files are available for download from NCBI's Gene Expression Omnibus (GEO, http://www.ncbi.nlm.nih.gov/geo), accession number GSE17954, section \"Samples\" GSM449525\tJurkat_ETS1_ChIPseq, supplementary file GSM449525_ETS1_EmpFDR20.0_19420.txt.gz."
   ]
  },
  {
   "cell_type": "markdown",
   "metadata": {},
   "source": [
    "Useq package documentation: https://useq.sourceforge.net/outputFileTypeDescriptions.html"
   ]
  },
  {
   "cell_type": "code",
   "execution_count": 1,
   "metadata": {
    "ExecuteTime": {
     "end_time": "2022-11-10T14:06:38.324615Z",
     "start_time": "2022-11-10T14:06:37.891Z"
    }
   },
   "outputs": [
    {
     "name": "stdout",
     "output_type": "stream",
     "text": [
      "'data.frame':\t19420 obs. of  17 variables:\n",
      " $ X.Hyperlinks                                                                  : chr  \"=HYPERLINK(http://localhost:7085/UnibrowControl?version=H_sapiens_Mar_2006&seqid=chr5&start=145534552&end=145550385,1)\" \"=HYPERLINK(http://localhost:7085/UnibrowControl?version=H_sapiens_Mar_2006&seqid=chr6&start=42631650&end=42647839,2)\" \"=HYPERLINK(http://localhost:7085/UnibrowControl?version=H_sapiens_Mar_2006&seqid=chr8&start=75038846&end=75055317,3)\" \"=HYPERLINK(http://localhost:7085/UnibrowControl?version=H_sapiens_Mar_2006&seqid=chr2&start=170130626&end=170146627,4)\" ...\n",
      " $ Chr                                                                           : chr  \"chr5\" \"chr6\" \"chr8\" \"chr2\" ...\n",
      " $ Start                                                                         : int  145542052 42639150 75046346 170138126 216984754 2377683 6642060 6830279 47531729 52407215 ...\n",
      " $ Stop                                                                          : int  145542885 42640339 75047817 170139127 216985919 2378893 6643263 6832411 47532790 52408210 ...\n",
      " $ X.Windows                                                                     : int  156 189 293 101 169 261 208 292 126 182 ...\n",
      " $ BW_Start                                                                      : int  145542490 42639446 75046972 170138575 216985244 2378153 6642575 6831644 47532206 52407447 ...\n",
      " $ BW_Stop                                                                       : int  145542741 42639697 75047223 170138824 216985495 2378404 6642826 6831895 47532457 52407698 ...\n",
      " $ BW_BinPVal                                                                    : num  3233 3233 3233 3233 3233 ...\n",
      " $ BW_QValueFDR                                                                  : num  3215 3215 3215 3215 3215 ...\n",
      " $ BW_EmpFDR                                                                     : num  41.2 41.2 41.2 41.2 41.2 ...\n",
      " $ BW_SkewPVal                                                                   : num  0 0 0 0 0 ...\n",
      " $ BW_Log2..sumT.1...sumC.1..                                                    : num  8.46 7.33 8.14 7.89 8.46 ...\n",
      " $ BW_SumT.                                                                      : num  292 390 354 291 364 378 366 447 338 356 ...\n",
      " $ BW_SumT..1                                                                    : num  387 309 329 396 315 317 308 236 345 343 ...\n",
      " $ BW_SumC.                                                                      : num  2 3 3 2 2 3 2 3 2 6 ...\n",
      " $ BW_SumC..1                                                                    : num  1 5 1 3 1 4 0 1 2 2 ...\n",
      " $ GenomeVersion.H_sapiens_Mar_2006..TotalTreatObs.6683411..TotalCtrlObs.13825035: logi  NA NA NA NA NA NA ...\n",
      "NULL\n"
     ]
    }
   ],
   "source": [
    "ETS1_chipseq <- read.csv(\"GSM449525_ETS1_EmpFDR20.0_19420.txt\"\n",
    "                        ,sep = \"\\t\"\n",
    "                        ,header = TRUE)\n",
    "print(str(ETS1_chipseq))"
   ]
  },
  {
   "cell_type": "markdown",
   "metadata": {},
   "source": [
    "# Process data"
   ]
  },
  {
   "cell_type": "code",
   "execution_count": 5,
   "metadata": {
    "ExecuteTime": {
     "end_time": "2022-11-10T14:15:38.706147Z",
     "start_time": "2022-11-10T14:15:38.684Z"
    }
   },
   "outputs": [],
   "source": [
    "start_hg38_region <- 88975070"
   ]
  },
  {
   "cell_type": "code",
   "execution_count": 6,
   "metadata": {
    "ExecuteTime": {
     "end_time": "2022-11-10T14:15:49.463979Z",
     "start_time": "2022-11-10T14:15:49.443Z"
    }
   },
   "outputs": [],
   "source": [
    "stop_hg38_region <- 89017059"
   ]
  },
  {
   "cell_type": "code",
   "execution_count": 7,
   "metadata": {
    "ExecuteTime": {
     "end_time": "2022-11-10T14:18:00.663825Z",
     "start_time": "2022-11-10T14:18:00.643Z"
    }
   },
   "outputs": [],
   "source": [
    "start_hg19_region <- 90734827"
   ]
  },
  {
   "cell_type": "code",
   "execution_count": 8,
   "metadata": {
    "ExecuteTime": {
     "end_time": "2022-11-10T14:18:17.229888Z",
     "start_time": "2022-11-10T14:18:17.199Z"
    }
   },
   "outputs": [],
   "source": [
    "stop_hg19_region <- 90776816"
   ]
  },
  {
   "cell_type": "code",
   "execution_count": 2,
   "metadata": {
    "ExecuteTime": {
     "end_time": "2022-11-10T14:10:02.253278Z",
     "start_time": "2022-11-10T14:10:02.176Z"
    }
   },
   "outputs": [
    {
     "data": {
      "text/html": [
       "871"
      ],
      "text/latex": [
       "871"
      ],
      "text/markdown": [
       "871"
      ],
      "text/plain": [
       "[1] 871"
      ]
     },
     "metadata": {},
     "output_type": "display_data"
    }
   ],
   "source": [
    "sum(ETS1_chipseq$Chr == \"chr10\")"
   ]
  },
  {
   "cell_type": "code",
   "execution_count": 11,
   "metadata": {
    "ExecuteTime": {
     "end_time": "2022-11-10T14:19:20.366986Z",
     "start_time": "2022-11-10T14:19:20.345Z"
    }
   },
   "outputs": [],
   "source": [
    "idx_fas_region <- ETS1_chipseq$Chr == \"chr10\" & ETS1_chipseq$Start > start_hg19_region & ETS1_chipseq$Stop < stop_hg19_region"
   ]
  },
  {
   "cell_type": "code",
   "execution_count": 12,
   "metadata": {
    "ExecuteTime": {
     "end_time": "2022-11-10T14:19:20.915537Z",
     "start_time": "2022-11-10T14:19:20.864Z"
    }
   },
   "outputs": [
    {
     "data": {
      "text/html": [
       "<table class=\"dataframe\">\n",
       "<caption>A data.frame: 2 × 17</caption>\n",
       "<thead>\n",
       "\t<tr><th></th><th scope=col>X.Hyperlinks</th><th scope=col>Chr</th><th scope=col>Start</th><th scope=col>Stop</th><th scope=col>X.Windows</th><th scope=col>BW_Start</th><th scope=col>BW_Stop</th><th scope=col>BW_BinPVal</th><th scope=col>BW_QValueFDR</th><th scope=col>BW_EmpFDR</th><th scope=col>BW_SkewPVal</th><th scope=col>BW_Log2..sumT.1...sumC.1..</th><th scope=col>BW_SumT.</th><th scope=col>BW_SumT..1</th><th scope=col>BW_SumC.</th><th scope=col>BW_SumC..1</th><th scope=col>GenomeVersion.H_sapiens_Mar_2006..TotalTreatObs.6683411..TotalCtrlObs.13825035</th></tr>\n",
       "\t<tr><th></th><th scope=col>&lt;chr&gt;</th><th scope=col>&lt;chr&gt;</th><th scope=col>&lt;int&gt;</th><th scope=col>&lt;int&gt;</th><th scope=col>&lt;int&gt;</th><th scope=col>&lt;int&gt;</th><th scope=col>&lt;int&gt;</th><th scope=col>&lt;dbl&gt;</th><th scope=col>&lt;dbl&gt;</th><th scope=col>&lt;dbl&gt;</th><th scope=col>&lt;dbl&gt;</th><th scope=col>&lt;dbl&gt;</th><th scope=col>&lt;dbl&gt;</th><th scope=col>&lt;dbl&gt;</th><th scope=col>&lt;dbl&gt;</th><th scope=col>&lt;dbl&gt;</th><th scope=col>&lt;lgl&gt;</th></tr>\n",
       "</thead>\n",
       "<tbody>\n",
       "\t<tr><th scope=row>16197</th><td>=HYPERLINK(http://localhost:7085/UnibrowControl?version=H_sapiens_Mar_2006&amp;seqid=chr10&amp;start=90732725&amp;end=90747993,16197)</td><td>chr10</td><td>90740225</td><td>90740493</td><td>1</td><td>90740238</td><td>90740480</td><td>39.59036</td><td>38.86890</td><td>23.09299</td><td>0</td><td>2.583030</td><td>7</td><td>7</td><td>1</td><td>3</td><td>NA</td></tr>\n",
       "\t<tr><th scope=row>17002</th><td>=HYPERLINK(http://localhost:7085/UnibrowControl?version=H_sapiens_Mar_2006&amp;seqid=chr10&amp;start=90733652&amp;end=90748930,17002)</td><td>chr10</td><td>90741152</td><td>90741430</td><td>2</td><td>90741165</td><td>90741412</td><td>35.77071</td><td>35.21036</td><td>23.01187</td><td>0</td><td>2.479814</td><td>9</td><td>4</td><td>2</td><td>2</td><td>NA</td></tr>\n",
       "</tbody>\n",
       "</table>\n"
      ],
      "text/latex": [
       "A data.frame: 2 × 17\n",
       "\\begin{tabular}{r|lllllllllllllllll}\n",
       "  & X.Hyperlinks & Chr & Start & Stop & X.Windows & BW\\_Start & BW\\_Stop & BW\\_BinPVal & BW\\_QValueFDR & BW\\_EmpFDR & BW\\_SkewPVal & BW\\_Log2..sumT.1...sumC.1.. & BW\\_SumT. & BW\\_SumT..1 & BW\\_SumC. & BW\\_SumC..1 & GenomeVersion.H\\_sapiens\\_Mar\\_2006..TotalTreatObs.6683411..TotalCtrlObs.13825035\\\\\n",
       "  & <chr> & <chr> & <int> & <int> & <int> & <int> & <int> & <dbl> & <dbl> & <dbl> & <dbl> & <dbl> & <dbl> & <dbl> & <dbl> & <dbl> & <lgl>\\\\\n",
       "\\hline\n",
       "\t16197 & =HYPERLINK(http://localhost:7085/UnibrowControl?version=H\\_sapiens\\_Mar\\_2006\\&seqid=chr10\\&start=90732725\\&end=90747993,16197) & chr10 & 90740225 & 90740493 & 1 & 90740238 & 90740480 & 39.59036 & 38.86890 & 23.09299 & 0 & 2.583030 & 7 & 7 & 1 & 3 & NA\\\\\n",
       "\t17002 & =HYPERLINK(http://localhost:7085/UnibrowControl?version=H\\_sapiens\\_Mar\\_2006\\&seqid=chr10\\&start=90733652\\&end=90748930,17002) & chr10 & 90741152 & 90741430 & 2 & 90741165 & 90741412 & 35.77071 & 35.21036 & 23.01187 & 0 & 2.479814 & 9 & 4 & 2 & 2 & NA\\\\\n",
       "\\end{tabular}\n"
      ],
      "text/markdown": [
       "\n",
       "A data.frame: 2 × 17\n",
       "\n",
       "| <!--/--> | X.Hyperlinks &lt;chr&gt; | Chr &lt;chr&gt; | Start &lt;int&gt; | Stop &lt;int&gt; | X.Windows &lt;int&gt; | BW_Start &lt;int&gt; | BW_Stop &lt;int&gt; | BW_BinPVal &lt;dbl&gt; | BW_QValueFDR &lt;dbl&gt; | BW_EmpFDR &lt;dbl&gt; | BW_SkewPVal &lt;dbl&gt; | BW_Log2..sumT.1...sumC.1.. &lt;dbl&gt; | BW_SumT. &lt;dbl&gt; | BW_SumT..1 &lt;dbl&gt; | BW_SumC. &lt;dbl&gt; | BW_SumC..1 &lt;dbl&gt; | GenomeVersion.H_sapiens_Mar_2006..TotalTreatObs.6683411..TotalCtrlObs.13825035 &lt;lgl&gt; |\n",
       "|---|---|---|---|---|---|---|---|---|---|---|---|---|---|---|---|---|---|\n",
       "| 16197 | =HYPERLINK(http://localhost:7085/UnibrowControl?version=H_sapiens_Mar_2006&amp;seqid=chr10&amp;start=90732725&amp;end=90747993,16197) | chr10 | 90740225 | 90740493 | 1 | 90740238 | 90740480 | 39.59036 | 38.86890 | 23.09299 | 0 | 2.583030 | 7 | 7 | 1 | 3 | NA |\n",
       "| 17002 | =HYPERLINK(http://localhost:7085/UnibrowControl?version=H_sapiens_Mar_2006&amp;seqid=chr10&amp;start=90733652&amp;end=90748930,17002) | chr10 | 90741152 | 90741430 | 2 | 90741165 | 90741412 | 35.77071 | 35.21036 | 23.01187 | 0 | 2.479814 | 9 | 4 | 2 | 2 | NA |\n",
       "\n"
      ],
      "text/plain": [
       "      X.Hyperlinks                                                                                                             \n",
       "16197 =HYPERLINK(http://localhost:7085/UnibrowControl?version=H_sapiens_Mar_2006&seqid=chr10&start=90732725&end=90747993,16197)\n",
       "17002 =HYPERLINK(http://localhost:7085/UnibrowControl?version=H_sapiens_Mar_2006&seqid=chr10&start=90733652&end=90748930,17002)\n",
       "      Chr   Start    Stop     X.Windows BW_Start BW_Stop  BW_BinPVal\n",
       "16197 chr10 90740225 90740493 1         90740238 90740480 39.59036  \n",
       "17002 chr10 90741152 90741430 2         90741165 90741412 35.77071  \n",
       "      BW_QValueFDR BW_EmpFDR BW_SkewPVal BW_Log2..sumT.1...sumC.1.. BW_SumT.\n",
       "16197 38.86890     23.09299  0           2.583030                   7       \n",
       "17002 35.21036     23.01187  0           2.479814                   9       \n",
       "      BW_SumT..1 BW_SumC. BW_SumC..1\n",
       "16197 7          1        3         \n",
       "17002 4          2        2         \n",
       "      GenomeVersion.H_sapiens_Mar_2006..TotalTreatObs.6683411..TotalCtrlObs.13825035\n",
       "16197 NA                                                                            \n",
       "17002 NA                                                                            "
      ]
     },
     "metadata": {},
     "output_type": "display_data"
    }
   ],
   "source": [
    "ETS1_chipseq[idx_fas_region,]"
   ]
  },
  {
   "cell_type": "code",
   "execution_count": 18,
   "metadata": {
    "ExecuteTime": {
     "end_time": "2022-11-10T14:28:12.377262Z",
     "start_time": "2022-11-10T14:28:12.355Z"
    }
   },
   "outputs": [],
   "source": [
    "bed <- ETS1_chipseq"
   ]
  },
  {
   "cell_type": "code",
   "execution_count": 19,
   "metadata": {
    "ExecuteTime": {
     "end_time": "2022-11-10T14:28:12.777394Z",
     "start_time": "2022-11-10T14:28:12.754Z"
    }
   },
   "outputs": [],
   "source": [
    "bed$chrom = 10"
   ]
  },
  {
   "cell_type": "code",
   "execution_count": 20,
   "metadata": {
    "ExecuteTime": {
     "end_time": "2022-11-10T14:28:13.310667Z",
     "start_time": "2022-11-10T14:28:13.289Z"
    }
   },
   "outputs": [],
   "source": [
    "bed$chromStart <- ETS1_chipseq$Start"
   ]
  },
  {
   "cell_type": "code",
   "execution_count": 21,
   "metadata": {
    "ExecuteTime": {
     "end_time": "2022-11-10T14:28:14.011882Z",
     "start_time": "2022-11-10T14:28:13.990Z"
    },
    "scrolled": false
   },
   "outputs": [],
   "source": [
    "bed$chromEnd <- ETS1_chipseq$Stop"
   ]
  },
  {
   "cell_type": "code",
   "execution_count": 23,
   "metadata": {
    "ExecuteTime": {
     "end_time": "2022-11-10T14:28:29.933571Z",
     "start_time": "2022-11-10T14:28:29.904Z"
    }
   },
   "outputs": [],
   "source": [
    "bed <- bed[idx_fas_region\n",
    "           ,c(\"chrom\"\n",
    "             ,\"chromStart\"\n",
    "             ,\"chromEnd\"\n",
    "             )]"
   ]
  },
  {
   "cell_type": "code",
   "execution_count": 24,
   "metadata": {
    "ExecuteTime": {
     "end_time": "2022-11-10T14:28:44.950572Z",
     "start_time": "2022-11-10T14:28:44.899Z"
    }
   },
   "outputs": [
    {
     "name": "stdout",
     "output_type": "stream",
     "text": [
      "'data.frame':\t2 obs. of  3 variables:\n",
      " $ chrom     : num  10 10\n",
      " $ chromStart: int  90740225 90741152\n",
      " $ chromEnd  : int  90740493 90741430\n",
      "NULL\n"
     ]
    }
   ],
   "source": [
    "print(str(bed))"
   ]
  },
  {
   "cell_type": "markdown",
   "metadata": {},
   "source": [
    "# Export"
   ]
  },
  {
   "cell_type": "code",
   "execution_count": 25,
   "metadata": {
    "ExecuteTime": {
     "end_time": "2022-11-10T14:29:22.806412Z",
     "start_time": "2022-11-10T14:29:22.781Z"
    }
   },
   "outputs": [],
   "source": [
    "write.table(bed\n",
    "            ,\"Hollenhorst_ETS1_FAS_hg18.bed\"\n",
    "         ,sep = \"\\t\"\n",
    "           ,row.names = FALSE\n",
    "           ,col.names = FALSE\n",
    "           ,quote = FALSE)"
   ]
  },
  {
   "cell_type": "markdown",
   "metadata": {},
   "source": [
    "The coordinates were then converted to hg38 via http://genome.ucsc.edu/cgi-bin/hgLiftOver and saved as file Hollenhorst_ETS1_FAS_hg38.bed."
   ]
  },
  {
   "cell_type": "markdown",
   "metadata": {},
   "source": [
    "For UCSC browser, the following three lines were added manually:"
   ]
  },
  {
   "cell_type": "markdown",
   "metadata": {},
   "source": [
    "browser position chr10:88990798-89017059"
   ]
  },
  {
   "cell_type": "markdown",
   "metadata": {},
   "source": [
    "track name=Hollenhorst_2009 description=\" \" visibility=2 color=205,127,50"
   ]
  },
  {
   "cell_type": "markdown",
   "metadata": {},
   "source": [
    "#chrom chromStart chromEnd"
   ]
  },
  {
   "cell_type": "code",
   "execution_count": null,
   "metadata": {},
   "outputs": [],
   "source": []
  }
 ],
 "metadata": {
  "kernelspec": {
   "display_name": "R",
   "language": "R",
   "name": "ir"
  },
  "language_info": {
   "codemirror_mode": "r",
   "file_extension": ".r",
   "mimetype": "text/x-r-source",
   "name": "R",
   "pygments_lexer": "r",
   "version": "4.2.2"
  },
  "toc": {
   "base_numbering": 1,
   "nav_menu": {},
   "number_sections": true,
   "sideBar": true,
   "skip_h1_title": false,
   "title_cell": "Table of Contents",
   "title_sidebar": "Contents",
   "toc_cell": false,
   "toc_position": {},
   "toc_section_display": true,
   "toc_window_display": false
  }
 },
 "nbformat": 4,
 "nbformat_minor": 4
}
